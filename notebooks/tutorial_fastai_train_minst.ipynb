{
  "nbformat": 4,
  "nbformat_minor": 0,
  "metadata": {
    "colab": {
      "provenance": []
    },
    "kernelspec": {
      "name": "python3",
      "display_name": "Python 3"
    },
    "language_info": {
      "name": "python"
    }
  },
  "cells": [
    {
      "cell_type": "markdown",
      "source": [
        "FastAI reference, for training vision functions, on a simpler dataset MINST."
      ],
      "metadata": {
        "id": "PlHr2aNrA2SZ"
      }
    },
    {
      "cell_type": "code",
      "source": [
        "pip install fastai"
      ],
      "metadata": {
        "id": "Y5qzlwYSAxw9",
        "collapsed": true
      },
      "execution_count": null,
      "outputs": []
    },
    {
      "cell_type": "markdown",
      "source": [
        "run this to get the function signature:  learn.fine_tune??"
      ],
      "metadata": {
        "id": "bvarKkkuZlgU"
      }
    },
    {
      "cell_type": "markdown",
      "source": [
        "FastAi import have import * in documentation"
      ],
      "metadata": {
        "id": "hnpO2-vsGvGq"
      }
    },
    {
      "cell_type": "code",
      "source": [
        "from fastai.vision.all import *"
      ],
      "metadata": {
        "id": "Nh5XtqlQ5O5x"
      },
      "execution_count": null,
      "outputs": []
    },
    {
      "cell_type": "code",
      "source": [
        "path = untar_data(URLs.MNIST)\n",
        "train_path = path / 'training'"
      ],
      "metadata": {
        "id": "d2n4kqoTbfxP"
      },
      "execution_count": null,
      "outputs": []
    },
    {
      "cell_type": "markdown",
      "source": [
        "FastAi DataBlock and DataLoader classes, what are differences:\n",
        "  - DataBlock\tDefine how to process and structure data, Blueprint for creating datasets\n",
        "  - DataLoader\tLoad data in batches for training, Feeds data into the model\n",
        "\n",
        "They work together:\n",
        "DataBlock defines the \"what and how\" about the data.\n",
        "DataLoader handles the \"when and how much\" about the data.\n"
      ],
      "metadata": {
        "id": "2nbkfAwLq9_O"
      }
    },
    {
      "cell_type": "markdown",
      "source": [
        "1. DataBlock: A High-Level Data Pipeline Constructor\n",
        "\t- DataBlock is a powerful and flexible blueprint for how your dataset should be processed.\n",
        "\t- It defines the steps required to turn raw data (like image paths or CSV files) into a format ready for training (like tensors in batches).\n",
        "\n",
        "2. DataLoader: The Data Carrier\n",
        "\t- DataLoader takes the processed items from the DataBlock and loads them in batches, ready for training.\n",
        "\t- Batches the data (default batch size is 64).\n",
        "\t- Applies batch_tfms (like data augmentation, normalization).\n",
        "\t- Ensures GPU/CPU compatibility.\n",
        "\t- Efficiently loads data during training.\n"
      ],
      "metadata": {
        "id": "CPgexl1KsMVp"
      }
    },
    {
      "cell_type": "markdown",
      "source": [
        "MNIST already comes with data stats normalized"
      ],
      "metadata": {
        "id": "uwSADf4Yjyjj"
      }
    },
    {
      "cell_type": "code",
      "source": [
        "mnist_stats"
      ],
      "metadata": {
        "colab": {
          "base_uri": "https://localhost:8080/"
        },
        "id": "I1RCHc63jjfg",
        "outputId": "1d587619-5e12-443f-b454-202d14636ce4"
      },
      "execution_count": null,
      "outputs": [
        {
          "output_type": "execute_result",
          "data": {
            "text/plain": [
              "([0.131], [0.308])"
            ]
          },
          "metadata": {},
          "execution_count": 10
        }
      ]
    },
    {
      "cell_type": "markdown",
      "source": [
        "Here is way to retrieve stats of a pre-trained model.\n",
        "When using a pretrained model you need to\n",
        "use the same normalization stats the pretrained model was trained on."
      ],
      "metadata": {
        "id": "rNRBEkYKAdfo"
      }
    },
    {
      "cell_type": "code",
      "source": [
        "from fastai.vision.learner import model_meta\n",
        "from torchvision.models import resnet34\n",
        "\n",
        "# Get the model metadata for resnet34\n",
        "meta = model_meta[resnet34]\n",
        "\n",
        "# Access the stats (mean and std)\n",
        "original_mean = meta['stats'][0]\n",
        "original_std = meta['stats'][1]\n",
        "\n",
        "print(\"Original Mean:\", original_mean)\n",
        "print(\"Original Standard Deviation:\", original_std)"
      ],
      "metadata": {
        "colab": {
          "base_uri": "https://localhost:8080/"
        },
        "id": "hjvX8dojjxV7",
        "outputId": "81d5fccc-4bbd-46ea-d483-d1828e90f29a"
      },
      "execution_count": null,
      "outputs": [
        {
          "output_type": "stream",
          "name": "stdout",
          "text": [
            "Original Mean: [0.485, 0.456, 0.406]\n",
            "Original Standard Deviation: [0.229, 0.224, 0.225]\n"
          ]
        }
      ]
    },
    {
      "cell_type": "markdown",
      "source": [
        "In this case imagenet stats are the same"
      ],
      "metadata": {
        "id": "IGkMJBojBxrz"
      }
    },
    {
      "cell_type": "code",
      "source": [
        "print(\"Imagenet Mean:\", imagenet_stats[0])\n",
        "print(\"Imagenet Standard Deviation:\", imagenet_stats[1])\n",
        "\n",
        "print(*imagenet_stats)"
      ],
      "metadata": {
        "colab": {
          "base_uri": "https://localhost:8080/"
        },
        "id": "oYyUkf-zkoU9",
        "outputId": "907272df-c925-4976-838a-469d450adf3a",
        "collapsed": true
      },
      "execution_count": null,
      "outputs": [
        {
          "output_type": "stream",
          "name": "stdout",
          "text": [
            "Imagenet Mean: [0.485, 0.456, 0.406]\n",
            "Imagenet Standard Deviation: [0.229, 0.224, 0.225]\n",
            "[0.485, 0.456, 0.406] [0.229, 0.224, 0.225]\n"
          ]
        }
      ]
    },
    {
      "cell_type": "code",
      "source": [
        "model_meta[resnet34]"
      ],
      "metadata": {
        "colab": {
          "base_uri": "https://localhost:8080/"
        },
        "id": "uDEpYDQryiVr",
        "outputId": "154503c1-3aba-4d3f-db8d-a7b0f6662121"
      },
      "execution_count": null,
      "outputs": [
        {
          "output_type": "execute_result",
          "data": {
            "text/plain": [
              "{'cut': -2,\n",
              " 'split': <function fastai.vision.learner._resnet_split(m)>,\n",
              " 'stats': ([0.485, 0.456, 0.406], [0.229, 0.224, 0.225]),\n",
              " 'weights': 'DEFAULT'}"
            ]
          },
          "metadata": {},
          "execution_count": 4
        }
      ]
    },
    {
      "cell_type": "markdown",
      "source": [
        "other information in meta\n",
        "\n",
        " - 'weights': 'DEFAULT', which means pretrained weights are available for those models.\n",
        " -  'cut': value in the model_meta dictionary in fastai specifies where to \"cut\" the pretrained model when using transfer learnin. A cut value of -2 means to remove the last two layers of the pretrained model.\n",
        " - 'split' value in the model_meta dictionary in fastai defines how the layers of the model are grouped for discriminative learning rates during fine-tuning.\n",
        "\n",
        "\n"
      ],
      "metadata": {
        "id": "_y1-QfPjvnab"
      }
    },
    {
      "cell_type": "code",
      "source": [
        "mnist = DataBlock(blocks = (ImageBlock,CategoryBlock),\n",
        "                 get_items = get_image_files,\n",
        "                 batch_tfms=[Normalize.from_stats(*imagenet_stats)],\n",
        "                 get_y = parent_label,\n",
        "                 splitter = RandomSplitter(valid_pct = 0.2, seed = 42))\n",
        "\n",
        "dls = mnist.dataloaders(train_path)"
      ],
      "metadata": {
        "id": "d3DZ8Iod58px"
      },
      "execution_count": null,
      "outputs": []
    },
    {
      "cell_type": "code",
      "source": [
        "learn = vision_learner(dls, resnet34, metrics=error_rate)"
      ],
      "metadata": {
        "id": "SbDDHI2nkqd_"
      },
      "execution_count": null,
      "outputs": []
    },
    {
      "cell_type": "markdown",
      "source": [
        "**Shows information about the learner model**"
      ],
      "metadata": {
        "id": "1JzxD9BEYfpq"
      }
    },
    {
      "cell_type": "code",
      "source": [
        "learn.summary()"
      ],
      "metadata": {
        "colab": {
          "base_uri": "https://localhost:8080/",
          "height": 1000
        },
        "collapsed": true,
        "id": "oVGrWvs2D1KM",
        "outputId": "34ccfc38-aec4-4feb-8220-082d93150fbd"
      },
      "execution_count": null,
      "outputs": [
        {
          "output_type": "display_data",
          "data": {
            "text/plain": [
              "<IPython.core.display.HTML object>"
            ],
            "text/html": [
              "\n",
              "<style>\n",
              "    /* Turns off some styling */\n",
              "    progress {\n",
              "        /* gets rid of default border in Firefox and Opera. */\n",
              "        border: none;\n",
              "        /* Needs to be in here for Safari polyfill so background images work as expected. */\n",
              "        background-size: auto;\n",
              "    }\n",
              "    progress:not([value]), progress:not([value])::-webkit-progress-bar {\n",
              "        background: repeating-linear-gradient(45deg, #7e7e7e, #7e7e7e 10px, #5c5c5c 10px, #5c5c5c 20px);\n",
              "    }\n",
              "    .progress-bar-interrupted, .progress-bar-interrupted::-webkit-progress-bar {\n",
              "        background: #F44336;\n",
              "    }\n",
              "</style>\n"
            ]
          },
          "metadata": {}
        },
        {
          "output_type": "display_data",
          "data": {
            "text/plain": [
              "<IPython.core.display.HTML object>"
            ],
            "text/html": []
          },
          "metadata": {}
        },
        {
          "output_type": "execute_result",
          "data": {
            "text/plain": [
              "Sequential (Input shape: 64 x 3 x 28 x 28)\n",
              "============================================================================\n",
              "Layer (type)         Output Shape         Param #    Trainable \n",
              "============================================================================\n",
              "                     64 x 64 x 14 x 14   \n",
              "Conv2d                                    9408       False     \n",
              "BatchNorm2d                               128        True      \n",
              "ReLU                                                           \n",
              "____________________________________________________________________________\n",
              "                     64 x 64 x 7 x 7     \n",
              "MaxPool2d                                                      \n",
              "Conv2d                                    36864      False     \n",
              "BatchNorm2d                               128        True      \n",
              "ReLU                                                           \n",
              "Conv2d                                    36864      False     \n",
              "BatchNorm2d                               128        True      \n",
              "Conv2d                                    36864      False     \n",
              "BatchNorm2d                               128        True      \n",
              "ReLU                                                           \n",
              "Conv2d                                    36864      False     \n",
              "BatchNorm2d                               128        True      \n",
              "Conv2d                                    36864      False     \n",
              "BatchNorm2d                               128        True      \n",
              "ReLU                                                           \n",
              "Conv2d                                    36864      False     \n",
              "BatchNorm2d                               128        True      \n",
              "____________________________________________________________________________\n",
              "                     64 x 128 x 4 x 4    \n",
              "Conv2d                                    73728      False     \n",
              "BatchNorm2d                               256        True      \n",
              "ReLU                                                           \n",
              "Conv2d                                    147456     False     \n",
              "BatchNorm2d                               256        True      \n",
              "Conv2d                                    8192       False     \n",
              "BatchNorm2d                               256        True      \n",
              "Conv2d                                    147456     False     \n",
              "BatchNorm2d                               256        True      \n",
              "ReLU                                                           \n",
              "Conv2d                                    147456     False     \n",
              "BatchNorm2d                               256        True      \n",
              "Conv2d                                    147456     False     \n",
              "BatchNorm2d                               256        True      \n",
              "ReLU                                                           \n",
              "Conv2d                                    147456     False     \n",
              "BatchNorm2d                               256        True      \n",
              "Conv2d                                    147456     False     \n",
              "BatchNorm2d                               256        True      \n",
              "ReLU                                                           \n",
              "Conv2d                                    147456     False     \n",
              "BatchNorm2d                               256        True      \n",
              "____________________________________________________________________________\n",
              "                     64 x 256 x 2 x 2    \n",
              "Conv2d                                    294912     False     \n",
              "BatchNorm2d                               512        True      \n",
              "ReLU                                                           \n",
              "Conv2d                                    589824     False     \n",
              "BatchNorm2d                               512        True      \n",
              "Conv2d                                    32768      False     \n",
              "BatchNorm2d                               512        True      \n",
              "Conv2d                                    589824     False     \n",
              "BatchNorm2d                               512        True      \n",
              "ReLU                                                           \n",
              "Conv2d                                    589824     False     \n",
              "BatchNorm2d                               512        True      \n",
              "Conv2d                                    589824     False     \n",
              "BatchNorm2d                               512        True      \n",
              "ReLU                                                           \n",
              "Conv2d                                    589824     False     \n",
              "BatchNorm2d                               512        True      \n",
              "Conv2d                                    589824     False     \n",
              "BatchNorm2d                               512        True      \n",
              "ReLU                                                           \n",
              "Conv2d                                    589824     False     \n",
              "BatchNorm2d                               512        True      \n",
              "Conv2d                                    589824     False     \n",
              "BatchNorm2d                               512        True      \n",
              "ReLU                                                           \n",
              "Conv2d                                    589824     False     \n",
              "BatchNorm2d                               512        True      \n",
              "Conv2d                                    589824     False     \n",
              "BatchNorm2d                               512        True      \n",
              "ReLU                                                           \n",
              "Conv2d                                    589824     False     \n",
              "BatchNorm2d                               512        True      \n",
              "____________________________________________________________________________\n",
              "                     64 x 512 x 1 x 1    \n",
              "Conv2d                                    1179648    False     \n",
              "BatchNorm2d                               1024       True      \n",
              "ReLU                                                           \n",
              "Conv2d                                    2359296    False     \n",
              "BatchNorm2d                               1024       True      \n",
              "Conv2d                                    131072     False     \n",
              "BatchNorm2d                               1024       True      \n",
              "Conv2d                                    2359296    False     \n",
              "BatchNorm2d                               1024       True      \n",
              "ReLU                                                           \n",
              "Conv2d                                    2359296    False     \n",
              "BatchNorm2d                               1024       True      \n",
              "Conv2d                                    2359296    False     \n",
              "BatchNorm2d                               1024       True      \n",
              "ReLU                                                           \n",
              "Conv2d                                    2359296    False     \n",
              "BatchNorm2d                               1024       True      \n",
              "AdaptiveAvgPool2d                                              \n",
              "AdaptiveMaxPool2d                                              \n",
              "____________________________________________________________________________\n",
              "                     64 x 1024           \n",
              "Flatten                                                        \n",
              "BatchNorm1d                               2048       True      \n",
              "Dropout                                                        \n",
              "____________________________________________________________________________\n",
              "                     64 x 512            \n",
              "Linear                                    524288     True      \n",
              "ReLU                                                           \n",
              "BatchNorm1d                               1024       True      \n",
              "Dropout                                                        \n",
              "____________________________________________________________________________\n",
              "                     64 x 10             \n",
              "Linear                                    5120       True      \n",
              "____________________________________________________________________________\n",
              "\n",
              "Total params: 21,817,152\n",
              "Total trainable params: 549,504\n",
              "Total non-trainable params: 21,267,648\n",
              "\n",
              "Optimizer used: <function Adam at 0x7811c805f7e0>\n",
              "Loss function: FlattenedLoss of CrossEntropyLoss()\n",
              "\n",
              "Model frozen up to parameter group #2\n",
              "\n",
              "Callbacks:\n",
              "  - TrainEvalCallback\n",
              "  - CastToTensor\n",
              "  - Recorder\n",
              "  - ProgressCallback"
            ],
            "application/vnd.google.colaboratory.intrinsic+json": {
              "type": "string"
            }
          },
          "metadata": {},
          "execution_count": 12
        }
      ]
    },
    {
      "cell_type": "code",
      "source": [
        "print('the number of layers that can be frozen:  %d\\nnumber of currently frozen layers:  %d' % ( len(learn.opt.param_lists) , learn.opt.frozen_idx ) )"
      ],
      "metadata": {
        "colab": {
          "base_uri": "https://localhost:8080/"
        },
        "id": "zmmTNrAvYvAK",
        "outputId": "b09a0358-a38c-4547-d166-1a1bf729e053"
      },
      "execution_count": null,
      "outputs": [
        {
          "output_type": "stream",
          "name": "stdout",
          "text": [
            "the number of layers that can be frozen:  3\n",
            "number of currently frozen layers:  2\n"
          ]
        }
      ]
    },
    {
      "cell_type": "markdown",
      "source": [
        "different functions for freezing\n",
        "\n",
        "\n",
        "\n",
        "```\n",
        "# freezes, up to n layers, if n is larger that number of layers, no error,\n",
        "# if n >= number_of_layers, message is displayed whole network is frozen\n",
        "learn.freeze_to(n)\n",
        "\n",
        "# freezes, up to n - 1 layers, same as freeze_to(-1) or freeze_to(max_larers - 1)\n",
        "learn.freeze()\n",
        "\n",
        "# no more layers are froozen\n",
        "learn.unfreeze()\n",
        "\n",
        "```\n",
        "\n"
      ],
      "metadata": {
        "id": "Qg5Y1HsGAbDf"
      }
    },
    {
      "cell_type": "markdown",
      "source": [
        "***chatgpt explanation:***\n",
        "\n",
        "**minimum**: This function suggests the learning rate where the loss is the absolute minimum. This might not always be the best choice, as the loss might be unstable around this point.\n",
        "\n",
        "**steep**: This function suggests the learning rate where the loss is decreasing most steeply. This often indicates a good starting point for training, as the model is learning quickly.\n",
        "\n",
        "**valley**: This function suggests a learning rate just before the loss starts to increase rapidly. This often corresponds to the point where the learning rate is still effective but hasn't become too high, causing the loss to diverge.\n",
        "\n",
        "**slide**: This function suggests a learning rate based on a heuristic that looks for a point where the loss is still decreasing but is approaching a plateau. This can be useful for finding a learning rate that allows for stable training without overshooting.\n"
      ],
      "metadata": {
        "id": "7QIIq2dnPhWW"
      }
    },
    {
      "cell_type": "markdown",
      "source": [
        "\n",
        "***fastai source code explanation:***\n",
        "\n",
        "from file\n",
        "\n",
        "callback/schedule.py\n",
        "\n",
        "valley:\n",
        "    \"Suggests a learning rate from the longest valley and returns its index\"\n",
        "\n",
        "slide:\n",
        "      \"Suggests a learning rate following an interval slide rule and returns its index\"\n",
        "\n",
        "minimum:\n",
        "    \"Suggests a learning rate one-tenth the minumum before divergance and returns its index\"\n",
        "\n",
        "steep:\n",
        "    \"Suggests a learning rate when the slope is the steepest and returns its index\"\n",
        "\n"
      ],
      "metadata": {
        "id": "XLjKb010p4gY"
      }
    },
    {
      "cell_type": "markdown",
      "source": [
        "***fastai book explanation***\n",
        "\n",
        "Our advice is to pick either:\n",
        "   \n",
        "- ***Minimum***: One order of magnitude less than where the minimum loss was achieved (i.e., the minimum divided by 10),\n",
        "This is 'minimum' from  outputs\n",
        "\n",
        "- The last point where the loss was clearly decreasing.\n",
        "start from 'steep' forward\n",
        "\n"
      ],
      "metadata": {
        "id": "SQrZOz9tRfhJ"
      }
    },
    {
      "cell_type": "markdown",
      "source": [
        "**Important: the minimum suggested learning rate is one order of magnitude less than where the minimum loss was achieved (i.e., the minimum divided by 10). This is different from the absolute minimum point on the chart**\n",
        "\n",
        "Code sample, plot points and returned learning rates are not the same thing\n",
        "\n",
        "\n",
        "```\n",
        "        SuggestedLRs = collections.namedtuple('SuggestedLRs', nms)\n",
        "        lrs, pnts = [], []\n",
        "        for lr, pnt in _suggestions:\n",
        "            lrs.append(lr)\n",
        "            pnts.append(pnt)\n",
        "        if show_plot: self.recorder.plot_lr_find(suggestions=pnts, nms=nms)\n",
        "        return SuggestedLRs(*lrs)\n",
        "```\n",
        "\n"
      ],
      "metadata": {
        "id": "O-NvvFTJkhPu"
      }
    },
    {
      "cell_type": "code",
      "source": [
        "lrs = learn.lr_find(suggest_funcs=(minimum, steep, valley, slide))"
      ],
      "metadata": {
        "colab": {
          "base_uri": "https://localhost:8080/",
          "height": 454
        },
        "id": "JSni38-36rUY",
        "outputId": "74f7a2b3-b689-4cad-f143-b16e1d8fdcb0"
      },
      "execution_count": null,
      "outputs": [
        {
          "output_type": "display_data",
          "data": {
            "text/plain": [
              "<IPython.core.display.HTML object>"
            ],
            "text/html": [
              "\n",
              "<style>\n",
              "    /* Turns off some styling */\n",
              "    progress {\n",
              "        /* gets rid of default border in Firefox and Opera. */\n",
              "        border: none;\n",
              "        /* Needs to be in here for Safari polyfill so background images work as expected. */\n",
              "        background-size: auto;\n",
              "    }\n",
              "    progress:not([value]), progress:not([value])::-webkit-progress-bar {\n",
              "        background: repeating-linear-gradient(45deg, #7e7e7e, #7e7e7e 10px, #5c5c5c 10px, #5c5c5c 20px);\n",
              "    }\n",
              "    .progress-bar-interrupted, .progress-bar-interrupted::-webkit-progress-bar {\n",
              "        background: #F44336;\n",
              "    }\n",
              "</style>\n"
            ]
          },
          "metadata": {}
        },
        {
          "output_type": "display_data",
          "data": {
            "text/plain": [
              "<IPython.core.display.HTML object>"
            ],
            "text/html": []
          },
          "metadata": {}
        },
        {
          "output_type": "display_data",
          "data": {
            "text/plain": [
              "<Figure size 640x480 with 1 Axes>"
            ],
            "image/png": "[encoded data removed]"
          },
          "metadata": {}
        }
      ]
    },
    {
      "cell_type": "code",
      "source": [
        "def format_lrs(lrs):\n",
        "    descriptions = {\n",
        "        'steep':   'learning rate when the slope is the steepest, \\nloss is decreasing most rapidly',\n",
        "        'slide':   'learning rate following an interval slide rule, \\nthis could be when loss is decreasing just before the loss starts to increase rapidly',\n",
        "        'minimum': '1/10th of the minimum point for the loss function, \\nlargest sensible value to use for learning rate, since minimum is to high',\n",
        "        'valley':  'learning rate from the longest valley, \\nthis could be before the loss starts to increase rapidly',\n",
        "    }\n",
        "\n",
        "    for key, value in sorted(lrs._asdict().items(), key=lambda item: item[1]):\n",
        "      print(\"metric: %s,  learning_rate:  %5.6f\" % (key, value))\n",
        "      print(descriptions[key])\n",
        "      print()\n"
      ],
      "metadata": {
        "id": "ogmGfDtg6-Vi"
      },
      "execution_count": null,
      "outputs": []
    },
    {
      "cell_type": "code",
      "source": [
        "format_lrs(lrs)"
      ],
      "metadata": {
        "colab": {
          "base_uri": "https://localhost:8080/"
        },
        "id": "p6RaFM1q7PSf",
        "outputId": "623cb3f2-c042-4d4d-8b6e-b628a3b51544"
      },
      "execution_count": null,
      "outputs": [
        {
          "output_type": "stream",
          "name": "stdout",
          "text": [
            "metric: valley,  learning_rate:  0.001445\n",
            "learning rate from the longest valley, \n",
            "this could be before the loss starts to increase rapidly\n",
            "\n",
            "metric: slide,  learning_rate:  0.002512\n",
            "learning rate following an interval slide rule, \n",
            "this could be when loss is decreasing just before the loss starts to increase rapidly\n",
            "\n",
            "metric: steep,  learning_rate:  0.003631\n",
            "learning rate when the slope is the steepest, \n",
            "loss is decreasing most rapidly\n",
            "\n",
            "metric: minimum,  learning_rate:  0.025119\n",
            "1/10th of the minimum point for the loss function, \n",
            "largest sensible value to use for learning rate, since minimum is to high\n",
            "\n"
          ]
        }
      ]
    },
    {
      "cell_type": "markdown",
      "source": [
        "fine tuning procedure, this traing on last layyer behind the hood, unfreezes and then trains again for the lowered learning rate.\n",
        "this is good for baseline, but you can implement the same thing yourself\n",
        "\n",
        "\n",
        "```\n",
        "def fine_tune(self:Learner, epochs, base_lr=2e-3, freeze_epochs=1, lr_mult=100,\n",
        "              pct_start=0.3, div=5.0, **kwargs):\n",
        "\n",
        "    self.freeze()\n",
        "    self.fit_one_cycle(freeze_epochs, slice(base_lr), pct_start=0.99, **kwargs)\n",
        "    base_lr /= 2\n",
        "    self.unfreeze()\n",
        "    self.fit_one_cycle(epochs, slice(base_lr/lr_mult, base_lr), pct_start=pct_start, div=div, **kwargs)\n",
        "\n",
        "```\n"
      ],
      "metadata": {
        "id": "L0-tDoG0XeJb"
      }
    },
    {
      "cell_type": "code",
      "source": [
        "learn.fine_tune(3, base_lr=0.005)"
      ],
      "metadata": {
        "id": "-KMCsz7sZcoO"
      },
      "execution_count": null,
      "outputs": []
    },
    {
      "cell_type": "code",
      "source": [
        "learn.fit_one_cycle(3, 0.005)"
      ],
      "metadata": {
        "colab": {
          "base_uri": "https://localhost:8080/",
          "height": 143
        },
        "id": "aLf0ZRRIuWIz",
        "outputId": "026dc231-c628-48a4-89f5-f50401fb6332"
      },
      "execution_count": null,
      "outputs": [
        {
          "output_type": "display_data",
          "data": {
            "text/plain": [
              "<IPython.core.display.HTML object>"
            ],
            "text/html": [
              "\n",
              "<style>\n",
              "    /* Turns off some styling */\n",
              "    progress {\n",
              "        /* gets rid of default border in Firefox and Opera. */\n",
              "        border: none;\n",
              "        /* Needs to be in here for Safari polyfill so background images work as expected. */\n",
              "        background-size: auto;\n",
              "    }\n",
              "    progress:not([value]), progress:not([value])::-webkit-progress-bar {\n",
              "        background: repeating-linear-gradient(45deg, #7e7e7e, #7e7e7e 10px, #5c5c5c 10px, #5c5c5c 20px);\n",
              "    }\n",
              "    .progress-bar-interrupted, .progress-bar-interrupted::-webkit-progress-bar {\n",
              "        background: #F44336;\n",
              "    }\n",
              "</style>\n"
            ]
          },
          "metadata": {}
        },
        {
          "output_type": "display_data",
          "data": {
            "text/plain": [
              "<IPython.core.display.HTML object>"
            ],
            "text/html": [
              "<table border=\"1\" class=\"dataframe\">\n",
              "  <thead>\n",
              "    <tr style=\"text-align: left;\">\n",
              "      <th>epoch</th>\n",
              "      <th>train_loss</th>\n",
              "      <th>valid_loss</th>\n",
              "      <th>error_rate</th>\n",
              "      <th>time</th>\n",
              "    </tr>\n",
              "  </thead>\n",
              "  <tbody>\n",
              "    <tr>\n",
              "      <td>0</td>\n",
              "      <td>0.190461</td>\n",
              "      <td>0.129474</td>\n",
              "      <td>0.037917</td>\n",
              "      <td>10:56</td>\n",
              "    </tr>\n",
              "    <tr>\n",
              "      <td>1</td>\n",
              "      <td>0.072560</td>\n",
              "      <td>0.060675</td>\n",
              "      <td>0.017000</td>\n",
              "      <td>10:48</td>\n",
              "    </tr>\n",
              "    <tr>\n",
              "      <td>2</td>\n",
              "      <td>0.053552</td>\n",
              "      <td>0.039484</td>\n",
              "      <td>0.011667</td>\n",
              "      <td>10:56</td>\n",
              "    </tr>\n",
              "  </tbody>\n",
              "</table>"
            ]
          },
          "metadata": {}
        }
      ]
    },
    {
      "cell_type": "markdown",
      "source": [
        "During training how do learning curves for train and loss change"
      ],
      "metadata": {
        "id": "v6BXdVuIVDmt"
      }
    },
    {
      "cell_type": "code",
      "source": [
        "learn.recorder.plot_loss()"
      ],
      "metadata": {
        "colab": {
          "base_uri": "https://localhost:8080/",
          "height": 489
        },
        "id": "SM73ksoLDiti",
        "outputId": "8609e3c6-9d43-4f29-c255-851e9c1de844"
      },
      "execution_count": null,
      "outputs": [
        {
          "output_type": "execute_result",
          "data": {
            "text/plain": [
              "<Axes: title={'center': 'learning curve'}, xlabel='steps', ylabel='loss'>"
            ]
          },
          "metadata": {},
          "execution_count": 62
        },
        {
          "output_type": "display_data",
          "data": {
            "text/plain": [
              "<Figure size 640x480 with 1 Axes>"
            ],
            "image/png": "[encoded data removed]"
          },
          "metadata": {}
        }
      ]
    },
    {
      "cell_type": "markdown",
      "source": [
        "**Interpretation of multiple classes classification, what is wrongly matched**"
      ],
      "metadata": {
        "id": "w349xxOcaCmO"
      }
    },
    {
      "cell_type": "code",
      "source": [
        "interp = ClassificationInterpretation.from_learner(learn)\n",
        "interp.plot_confusion_matrix(figsize=(12,12), dpi=60)"
      ],
      "metadata": {
        "colab": {
          "base_uri": "https://localhost:8080/",
          "height": 743
        },
        "id": "CsGeGa9nVvLP",
        "outputId": "0792f361-6dd3-480b-9e8b-2941bbe853c3"
      },
      "execution_count": null,
      "outputs": [
        {
          "output_type": "display_data",
          "data": {
            "text/plain": [
              "<IPython.core.display.HTML object>"
            ],
            "text/html": [
              "\n",
              "<style>\n",
              "    /* Turns off some styling */\n",
              "    progress {\n",
              "        /* gets rid of default border in Firefox and Opera. */\n",
              "        border: none;\n",
              "        /* Needs to be in here for Safari polyfill so background images work as expected. */\n",
              "        background-size: auto;\n",
              "    }\n",
              "    progress:not([value]), progress:not([value])::-webkit-progress-bar {\n",
              "        background: repeating-linear-gradient(45deg, #7e7e7e, #7e7e7e 10px, #5c5c5c 10px, #5c5c5c 20px);\n",
              "    }\n",
              "    .progress-bar-interrupted, .progress-bar-interrupted::-webkit-progress-bar {\n",
              "        background: #F44336;\n",
              "    }\n",
              "</style>\n"
            ]
          },
          "metadata": {}
        },
        {
          "output_type": "display_data",
          "data": {
            "text/plain": [
              "<IPython.core.display.HTML object>"
            ],
            "text/html": []
          },
          "metadata": {}
        },
        {
          "output_type": "display_data",
          "data": {
            "text/plain": [
              "<IPython.core.display.HTML object>"
            ],
            "text/html": [
              "\n",
              "<style>\n",
              "    /* Turns off some styling */\n",
              "    progress {\n",
              "        /* gets rid of default border in Firefox and Opera. */\n",
              "        border: none;\n",
              "        /* Needs to be in here for Safari polyfill so background images work as expected. */\n",
              "        background-size: auto;\n",
              "    }\n",
              "    progress:not([value]), progress:not([value])::-webkit-progress-bar {\n",
              "        background: repeating-linear-gradient(45deg, #7e7e7e, #7e7e7e 10px, #5c5c5c 10px, #5c5c5c 20px);\n",
              "    }\n",
              "    .progress-bar-interrupted, .progress-bar-interrupted::-webkit-progress-bar {\n",
              "        background: #F44336;\n",
              "    }\n",
              "</style>\n"
            ]
          },
          "metadata": {}
        },
        {
          "output_type": "display_data",
          "data": {
            "text/plain": [
              "<IPython.core.display.HTML object>"
            ],
            "text/html": []
          },
          "metadata": {}
        },
        {
          "output_type": "display_data",
          "data": {
            "text/plain": [
              "<Figure size 720x720 with 1 Axes>"
            ],
            "image/png": "[encoded data removed]"
          },
          "metadata": {}
        }
      ]
    },
    {
      "cell_type": "markdown",
      "source": [
        "explanation of columns:  (actual, predicted, # occurrences)"
      ],
      "metadata": {
        "id": "XUMicNZ7FSSI"
      }
    },
    {
      "cell_type": "code",
      "source": [
        "interp.most_confused(min_val=5)"
      ],
      "metadata": {
        "colab": {
          "base_uri": "https://localhost:8080/",
          "height": 247
        },
        "id": "P0Aus2oTZuqu",
        "outputId": "61920e49-8fb8-45a3-8794-03e3948eea34"
      },
      "execution_count": null,
      "outputs": [
        {
          "output_type": "display_data",
          "data": {
            "text/plain": [
              "<IPython.core.display.HTML object>"
            ],
            "text/html": [
              "<table border=\"1\" class=\"dataframe\">\n",
              "  <thead>\n",
              "    <tr style=\"text-align: left;\">\n",
              "      <th>epoch</th>\n",
              "      <th>train_loss</th>\n",
              "      <th>valid_loss</th>\n",
              "      <th>error_rate</th>\n",
              "      <th>time</th>\n",
              "    </tr>\n",
              "  </thead>\n",
              "  <tbody>\n",
              "    <tr>\n",
              "      <td>0</td>\n",
              "      <td>0.041302</td>\n",
              "      <td>0.038527</td>\n",
              "      <td>0.011417</td>\n",
              "      <td>25:02</td>\n",
              "    </tr>\n",
              "    <tr>\n",
              "      <td>1</td>\n",
              "      <td>0.044377</td>\n",
              "      <td>0.036831</td>\n",
              "      <td>0.010750</td>\n",
              "      <td>25:10</td>\n",
              "    </tr>\n",
              "    <tr>\n",
              "      <td>2</td>\n",
              "      <td>0.026539</td>\n",
              "      <td>0.036523</td>\n",
              "      <td>0.010500</td>\n",
              "      <td>25:33</td>\n",
              "    </tr>\n",
              "  </tbody>\n",
              "</table>"
            ]
          },
          "metadata": {}
        },
        {
          "output_type": "execute_result",
          "data": {
            "text/plain": [
              "[('7', '9', np.int64(10)),\n",
              " ('9', '4', np.int64(8)),\n",
              " ('7', '2', np.int64(6)),\n",
              " ('8', '3', np.int64(6)),\n",
              " ('4', '9', np.int64(5)),\n",
              " ('9', '8', np.int64(5))]"
            ]
          },
          "metadata": {},
          "execution_count": 79
        }
      ]
    },
    {
      "cell_type": "code",
      "source": [
        "interp.print_classification_report()"
      ],
      "metadata": {
        "colab": {
          "base_uri": "https://localhost:8080/",
          "height": 312
        },
        "id": "sTyEylw4vyZr",
        "outputId": "f0999777-9a11-4233-d53c-459779662ab3"
      },
      "execution_count": null,
      "outputs": [
        {
          "output_type": "display_data",
          "data": {
            "text/plain": [
              "<IPython.core.display.HTML object>"
            ],
            "text/html": [
              "\n",
              "<style>\n",
              "    /* Turns off some styling */\n",
              "    progress {\n",
              "        /* gets rid of default border in Firefox and Opera. */\n",
              "        border: none;\n",
              "        /* Needs to be in here for Safari polyfill so background images work as expected. */\n",
              "        background-size: auto;\n",
              "    }\n",
              "    progress:not([value]), progress:not([value])::-webkit-progress-bar {\n",
              "        background: repeating-linear-gradient(45deg, #7e7e7e, #7e7e7e 10px, #5c5c5c 10px, #5c5c5c 20px);\n",
              "    }\n",
              "    .progress-bar-interrupted, .progress-bar-interrupted::-webkit-progress-bar {\n",
              "        background: #F44336;\n",
              "    }\n",
              "</style>\n"
            ]
          },
          "metadata": {}
        },
        {
          "output_type": "display_data",
          "data": {
            "text/plain": [
              "<IPython.core.display.HTML object>"
            ],
            "text/html": []
          },
          "metadata": {}
        },
        {
          "output_type": "stream",
          "name": "stdout",
          "text": [
            "              precision    recall  f1-score   support\n",
            "\n",
            "           0       1.00      0.99      1.00      1192\n",
            "           1       0.99      1.00      0.99      1355\n",
            "           2       0.99      0.99      0.99      1148\n",
            "           3       0.99      0.99      0.99      1184\n",
            "           4       0.99      0.99      0.99      1176\n",
            "           5       0.99      1.00      0.99      1066\n",
            "           6       1.00      1.00      1.00      1214\n",
            "           7       0.99      0.98      0.98      1255\n",
            "           8       0.99      0.98      0.98      1168\n",
            "           9       0.98      0.98      0.98      1242\n",
            "\n",
            "    accuracy                           0.99     12000\n",
            "   macro avg       0.99      0.99      0.99     12000\n",
            "weighted avg       0.99      0.99      0.99     12000\n",
            "\n"
          ]
        }
      ]
    },
    {
      "cell_type": "markdown",
      "source": [
        "Visual displays of top errors in classification, here you see what is confudes because of similatiry"
      ],
      "metadata": {
        "id": "eD5vN9WWGQUB"
      }
    },
    {
      "cell_type": "code",
      "source": [
        "interp.plot_top_losses(16)"
      ],
      "metadata": {
        "colab": {
          "base_uri": "https://localhost:8080/",
          "height": 1000
        },
        "id": "op8czJEMF-2U",
        "outputId": "b338001f-4ccd-45da-f9d2-93ed442b956a"
      },
      "execution_count": null,
      "outputs": [
        {
          "output_type": "display_data",
          "data": {
            "text/plain": [
              "<IPython.core.display.HTML object>"
            ],
            "text/html": [
              "\n",
              "<style>\n",
              "    /* Turns off some styling */\n",
              "    progress {\n",
              "        /* gets rid of default border in Firefox and Opera. */\n",
              "        border: none;\n",
              "        /* Needs to be in here for Safari polyfill so background images work as expected. */\n",
              "        background-size: auto;\n",
              "    }\n",
              "    progress:not([value]), progress:not([value])::-webkit-progress-bar {\n",
              "        background: repeating-linear-gradient(45deg, #7e7e7e, #7e7e7e 10px, #5c5c5c 10px, #5c5c5c 20px);\n",
              "    }\n",
              "    .progress-bar-interrupted, .progress-bar-interrupted::-webkit-progress-bar {\n",
              "        background: #F44336;\n",
              "    }\n",
              "</style>\n"
            ]
          },
          "metadata": {}
        },
        {
          "output_type": "display_data",
          "data": {
            "text/plain": [
              "<IPython.core.display.HTML object>"
            ],
            "text/html": []
          },
          "metadata": {}
        },
        {
          "output_type": "display_data",
          "data": {
            "text/plain": [
              "<Figure size 1200x1200 with 16 Axes>"
            ],
            "image/png": "[encoded data removed]"
          },
          "metadata": {}
        }
      ]
    },
    {
      "cell_type": "markdown",
      "source": [
        "**unfreeze the model, train earlier layers**"
      ],
      "metadata": {
        "id": "8vJ9UKeqdNbv"
      }
    },
    {
      "cell_type": "code",
      "source": [
        "learn.unfreeze()"
      ],
      "metadata": {
        "id": "5zwmSLxgb9Jt"
      },
      "execution_count": null,
      "outputs": []
    },
    {
      "cell_type": "markdown",
      "source": [
        "**Learning rate procedure needs to be called again, because layers where unfrozen**"
      ],
      "metadata": {
        "id": "FRS2p-oycWvo"
      }
    },
    {
      "cell_type": "code",
      "source": [
        "lrs = learn.lr_find(suggest_funcs=(minimum, steep, valley, slide))"
      ],
      "metadata": {
        "colab": {
          "base_uri": "https://localhost:8080/",
          "height": 454
        },
        "id": "soCtdRwocQO5",
        "outputId": "81ac0ebf-6dde-4e49-a07f-85bc3e017aef"
      },
      "execution_count": null,
      "outputs": [
        {
          "output_type": "display_data",
          "data": {
            "text/plain": [
              "<IPython.core.display.HTML object>"
            ],
            "text/html": [
              "\n",
              "<style>\n",
              "    /* Turns off some styling */\n",
              "    progress {\n",
              "        /* gets rid of default border in Firefox and Opera. */\n",
              "        border: none;\n",
              "        /* Needs to be in here for Safari polyfill so background images work as expected. */\n",
              "        background-size: auto;\n",
              "    }\n",
              "    progress:not([value]), progress:not([value])::-webkit-progress-bar {\n",
              "        background: repeating-linear-gradient(45deg, #7e7e7e, #7e7e7e 10px, #5c5c5c 10px, #5c5c5c 20px);\n",
              "    }\n",
              "    .progress-bar-interrupted, .progress-bar-interrupted::-webkit-progress-bar {\n",
              "        background: #F44336;\n",
              "    }\n",
              "</style>\n"
            ]
          },
          "metadata": {}
        },
        {
          "output_type": "display_data",
          "data": {
            "text/plain": [
              "<IPython.core.display.HTML object>"
            ],
            "text/html": []
          },
          "metadata": {}
        },
        {
          "output_type": "display_data",
          "data": {
            "text/plain": [
              "<Figure size 640x480 with 1 Axes>"
            ],
            "image/png": "[encoded data removed]"
          },
          "metadata": {}
        }
      ]
    },
    {
      "cell_type": "markdown",
      "source": [
        "Early stopping is used to not train the model infinitely, but\n",
        "\n",
        "cbs=EarlyStoppingCallback\n",
        "\n",
        "min_delta : minimum change in the monitored quantity to qualify as an improvement, i.e. an absolute change of less than min_delta, will count as no improvement.\n",
        "\n",
        "patience : number of epochs with no improvement after which training will be stopped.\n",
        "\n"
      ],
      "metadata": {
        "id": "6ypeTr4fcoHg"
      }
    },
    {
      "cell_type": "markdown",
      "source": [
        "**discriminative learning rates are used after unfreezing, earlier layers, have lower learing rate**\n",
        "\n",
        "idea behind discriminative learning rates.\n",
        "use a lower learning rate for the early layers of the neural network, and a higher learning rate for the later layers (and especially the randomly added layers)."
      ],
      "metadata": {
        "id": "J36SPuX2dgtd"
      }
    },
    {
      "cell_type": "code",
      "source": [
        "learn.fit_one_cycle(12, lr_max=slice(0.000001, 0.00001), cbs=EarlyStoppingCallback(min_delta=0.001, patience=2))"
      ],
      "metadata": {
        "id": "r14f3JkWcHjr"
      },
      "execution_count": null,
      "outputs": []
    }
  ]
}
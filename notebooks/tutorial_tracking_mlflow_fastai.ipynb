{
  "nbformat": 4,
  "nbformat_minor": 0,
  "metadata": {
    "colab": {
      "provenance": []
    },
    "kernelspec": {
      "name": "python3",
      "display_name": "Python 3"
    },
    "language_info": {
      "name": "python"
    },
    "widgets": {
      "application/vnd.jupyter.widget-state+json": {
        "8f31357c8a1e42a99d36a0bbec9d79a4": {
          "model_module": "@jupyter-widgets/controls",
          "model_name": "HBoxModel",
          "model_module_version": "1.5.0",
          "state": {
            "_dom_classes": [],
            "_model_module": "@jupyter-widgets/controls",
            "_model_module_version": "1.5.0",
            "_model_name": "HBoxModel",
            "_view_count": null,
            "_view_module": "@jupyter-widgets/controls",
            "_view_module_version": "1.5.0",
            "_view_name": "HBoxView",
            "box_style": "",
            "children": [
              "IPY_MODEL_950403153b8c4dae9ed91d86542031bd",
              "IPY_MODEL_81e1658b543647ff99dc1c55a39e519d",
              "IPY_MODEL_728e95deb8554edba43ffbbbca2d65a9"
            ],
            "layout": "IPY_MODEL_1b52487f81f0474598940ae365875b9f"
          }
        },
        "950403153b8c4dae9ed91d86542031bd": {
          "model_module": "@jupyter-widgets/controls",
          "model_name": "HTMLModel",
          "model_module_version": "1.5.0",
          "state": {
            "_dom_classes": [],
            "_model_module": "@jupyter-widgets/controls",
            "_model_module_version": "1.5.0",
            "_model_name": "HTMLModel",
            "_view_count": null,
            "_view_module": "@jupyter-widgets/controls",
            "_view_module_version": "1.5.0",
            "_view_name": "HTMLView",
            "description": "",
            "description_tooltip": null,
            "layout": "IPY_MODEL_56985584b7b64bcda8b2eb711cdcdd87",
            "placeholder": "​",
            "style": "IPY_MODEL_f513ff2ef62c4cae9757acf3ede8f6b6",
            "value": "Downloading artifacts: 100%"
          }
        },
        "81e1658b543647ff99dc1c55a39e519d": {
          "model_module": "@jupyter-widgets/controls",
          "model_name": "FloatProgressModel",
          "model_module_version": "1.5.0",
          "state": {
            "_dom_classes": [],
            "_model_module": "@jupyter-widgets/controls",
            "_model_module_version": "1.5.0",
            "_model_name": "FloatProgressModel",
            "_view_count": null,
            "_view_module": "@jupyter-widgets/controls",
            "_view_module_version": "1.5.0",
            "_view_name": "ProgressView",
            "bar_style": "success",
            "description": "",
            "description_tooltip": null,
            "layout": "IPY_MODEL_84019bd338e1448d81bcd0ab074be1fd",
            "max": 1,
            "min": 0,
            "orientation": "horizontal",
            "style": "IPY_MODEL_472ea34493de4819aabde9a9aea5387d",
            "value": 1
          }
        },
        "728e95deb8554edba43ffbbbca2d65a9": {
          "model_module": "@jupyter-widgets/controls",
          "model_name": "HTMLModel",
          "model_module_version": "1.5.0",
          "state": {
            "_dom_classes": [],
            "_model_module": "@jupyter-widgets/controls",
            "_model_module_version": "1.5.0",
            "_model_name": "HTMLModel",
            "_view_count": null,
            "_view_module": "@jupyter-widgets/controls",
            "_view_module_version": "1.5.0",
            "_view_name": "HTMLView",
            "description": "",
            "description_tooltip": null,
            "layout": "IPY_MODEL_fcfca4dd779848cf8fa1d4e5b449a3ed",
            "placeholder": "​",
            "style": "IPY_MODEL_46920eeba82e400cb64a5cc0e92e9b62",
            "value": " 1/1 [00:00&lt;00:00, 18.69it/s]"
          }
        },
        "1b52487f81f0474598940ae365875b9f": {
          "model_module": "@jupyter-widgets/base",
          "model_name": "LayoutModel",
          "model_module_version": "1.2.0",
          "state": {
            "_model_module": "@jupyter-widgets/base",
            "_model_module_version": "1.2.0",
            "_model_name": "LayoutModel",
            "_view_count": null,
            "_view_module": "@jupyter-widgets/base",
            "_view_module_version": "1.2.0",
            "_view_name": "LayoutView",
            "align_content": null,
            "align_items": null,
            "align_self": null,
            "border": null,
            "bottom": null,
            "display": null,
            "flex": null,
            "flex_flow": null,
            "grid_area": null,
            "grid_auto_columns": null,
            "grid_auto_flow": null,
            "grid_auto_rows": null,
            "grid_column": null,
            "grid_gap": null,
            "grid_row": null,
            "grid_template_areas": null,
            "grid_template_columns": null,
            "grid_template_rows": null,
            "height": null,
            "justify_content": null,
            "justify_items": null,
            "left": null,
            "margin": null,
            "max_height": null,
            "max_width": null,
            "min_height": null,
            "min_width": null,
            "object_fit": null,
            "object_position": null,
            "order": null,
            "overflow": null,
            "overflow_x": null,
            "overflow_y": null,
            "padding": null,
            "right": null,
            "top": null,
            "visibility": null,
            "width": null
          }
        },
        "56985584b7b64bcda8b2eb711cdcdd87": {
          "model_module": "@jupyter-widgets/base",
          "model_name": "LayoutModel",
          "model_module_version": "1.2.0",
          "state": {
            "_model_module": "@jupyter-widgets/base",
            "_model_module_version": "1.2.0",
            "_model_name": "LayoutModel",
            "_view_count": null,
            "_view_module": "@jupyter-widgets/base",
            "_view_module_version": "1.2.0",
            "_view_name": "LayoutView",
            "align_content": null,
            "align_items": null,
            "align_self": null,
            "border": null,
            "bottom": null,
            "display": null,
            "flex": null,
            "flex_flow": null,
            "grid_area": null,
            "grid_auto_columns": null,
            "grid_auto_flow": null,
            "grid_auto_rows": null,
            "grid_column": null,
            "grid_gap": null,
            "grid_row": null,
            "grid_template_areas": null,
            "grid_template_columns": null,
            "grid_template_rows": null,
            "height": null,
            "justify_content": null,
            "justify_items": null,
            "left": null,
            "margin": null,
            "max_height": null,
            "max_width": null,
            "min_height": null,
            "min_width": null,
            "object_fit": null,
            "object_position": null,
            "order": null,
            "overflow": null,
            "overflow_x": null,
            "overflow_y": null,
            "padding": null,
            "right": null,
            "top": null,
            "visibility": null,
            "width": null
          }
        },
        "f513ff2ef62c4cae9757acf3ede8f6b6": {
          "model_module": "@jupyter-widgets/controls",
          "model_name": "DescriptionStyleModel",
          "model_module_version": "1.5.0",
          "state": {
            "_model_module": "@jupyter-widgets/controls",
            "_model_module_version": "1.5.0",
            "_model_name": "DescriptionStyleModel",
            "_view_count": null,
            "_view_module": "@jupyter-widgets/base",
            "_view_module_version": "1.2.0",
            "_view_name": "StyleView",
            "description_width": ""
          }
        },
        "84019bd338e1448d81bcd0ab074be1fd": {
          "model_module": "@jupyter-widgets/base",
          "model_name": "LayoutModel",
          "model_module_version": "1.2.0",
          "state": {
            "_model_module": "@jupyter-widgets/base",
            "_model_module_version": "1.2.0",
            "_model_name": "LayoutModel",
            "_view_count": null,
            "_view_module": "@jupyter-widgets/base",
            "_view_module_version": "1.2.0",
            "_view_name": "LayoutView",
            "align_content": null,
            "align_items": null,
            "align_self": null,
            "border": null,
            "bottom": null,
            "display": null,
            "flex": null,
            "flex_flow": null,
            "grid_area": null,
            "grid_auto_columns": null,
            "grid_auto_flow": null,
            "grid_auto_rows": null,
            "grid_column": null,
            "grid_gap": null,
            "grid_row": null,
            "grid_template_areas": null,
            "grid_template_columns": null,
            "grid_template_rows": null,
            "height": null,
            "justify_content": null,
            "justify_items": null,
            "left": null,
            "margin": null,
            "max_height": null,
            "max_width": null,
            "min_height": null,
            "min_width": null,
            "object_fit": null,
            "object_position": null,
            "order": null,
            "overflow": null,
            "overflow_x": null,
            "overflow_y": null,
            "padding": null,
            "right": null,
            "top": null,
            "visibility": null,
            "width": null
          }
        },
        "472ea34493de4819aabde9a9aea5387d": {
          "model_module": "@jupyter-widgets/controls",
          "model_name": "ProgressStyleModel",
          "model_module_version": "1.5.0",
          "state": {
            "_model_module": "@jupyter-widgets/controls",
            "_model_module_version": "1.5.0",
            "_model_name": "ProgressStyleModel",
            "_view_count": null,
            "_view_module": "@jupyter-widgets/base",
            "_view_module_version": "1.2.0",
            "_view_name": "StyleView",
            "bar_color": null,
            "description_width": ""
          }
        },
        "fcfca4dd779848cf8fa1d4e5b449a3ed": {
          "model_module": "@jupyter-widgets/base",
          "model_name": "LayoutModel",
          "model_module_version": "1.2.0",
          "state": {
            "_model_module": "@jupyter-widgets/base",
            "_model_module_version": "1.2.0",
            "_model_name": "LayoutModel",
            "_view_count": null,
            "_view_module": "@jupyter-widgets/base",
            "_view_module_version": "1.2.0",
            "_view_name": "LayoutView",
            "align_content": null,
            "align_items": null,
            "align_self": null,
            "border": null,
            "bottom": null,
            "display": null,
            "flex": null,
            "flex_flow": null,
            "grid_area": null,
            "grid_auto_columns": null,
            "grid_auto_flow": null,
            "grid_auto_rows": null,
            "grid_column": null,
            "grid_gap": null,
            "grid_row": null,
            "grid_template_areas": null,
            "grid_template_columns": null,
            "grid_template_rows": null,
            "height": null,
            "justify_content": null,
            "justify_items": null,
            "left": null,
            "margin": null,
            "max_height": null,
            "max_width": null,
            "min_height": null,
            "min_width": null,
            "object_fit": null,
            "object_position": null,
            "order": null,
            "overflow": null,
            "overflow_x": null,
            "overflow_y": null,
            "padding": null,
            "right": null,
            "top": null,
            "visibility": null,
            "width": null
          }
        },
        "46920eeba82e400cb64a5cc0e92e9b62": {
          "model_module": "@jupyter-widgets/controls",
          "model_name": "DescriptionStyleModel",
          "model_module_version": "1.5.0",
          "state": {
            "_model_module": "@jupyter-widgets/controls",
            "_model_module_version": "1.5.0",
            "_model_name": "DescriptionStyleModel",
            "_view_count": null,
            "_view_module": "@jupyter-widgets/base",
            "_view_module_version": "1.2.0",
            "_view_name": "StyleView",
            "description_width": ""
          }
        }
      }
    }
  },
  "cells": [
    {
      "cell_type": "markdown",
      "source": [
        "FastAI reference, for training vision functions, on a simpler dataset MINST."
      ],
      "metadata": {
        "id": "PlHr2aNrA2SZ"
      }
    },
    {
      "cell_type": "markdown",
      "source": [
        "From version mlflow 3 onwards fastai no longer has autologging"
      ],
      "metadata": {
        "id": "LO8SBHI5a0yg"
      }
    },
    {
      "cell_type": "code",
      "source": [
        "pip install fastai"
      ],
      "metadata": {
        "id": "Y5qzlwYSAxw9",
        "collapsed": true
      },
      "execution_count": null,
      "outputs": []
    },
    {
      "cell_type": "code",
      "source": [
        "pip install mlflow --quiet"
      ],
      "metadata": {
        "id": "QXSi4910Z2K5"
      },
      "execution_count": null,
      "outputs": []
    },
    {
      "cell_type": "code",
      "source": [
        "from fastai.vision.all import *\n",
        "import os\n",
        "import mlflow"
      ],
      "metadata": {
        "id": "Nh5XtqlQ5O5x"
      },
      "execution_count": null,
      "outputs": []
    },
    {
      "cell_type": "code",
      "source": [
        "# default value\n",
        "LOCAL_REGISTRY = \"sqlite:///mlruns.db\""
      ],
      "metadata": {
        "id": "5_Q4Qij30JOn"
      },
      "execution_count": null,
      "outputs": []
    },
    {
      "cell_type": "markdown",
      "source": [
        "**MLflow parameters**"
      ],
      "metadata": {
        "id": "3mk6FSnI4VGY"
      }
    },
    {
      "cell_type": "code",
      "source": [
        "LOCAL_REGISTRY = \"sqlite:///tutorial_mlflow.db\"\n",
        "MODEL_NAME = \"TutorialMlFlowModel\"\n",
        "\n",
        "EXPERIMENT_NAME = \"FastAi MLFlow Tutorial\""
      ],
      "metadata": {
        "id": "YCqO7pIRZrj8"
      },
      "execution_count": null,
      "outputs": []
    },
    {
      "cell_type": "markdown",
      "source": [
        "Init the client and local default registry"
      ],
      "metadata": {
        "id": "BL9MZhL_BR38"
      }
    },
    {
      "cell_type": "code",
      "source": [
        "mlfclient = mlflow.tracking.MlflowClient(tracking_uri=LOCAL_REGISTRY)"
      ],
      "metadata": {
        "id": "tl8Ga02yqavf"
      },
      "execution_count": null,
      "outputs": []
    },
    {
      "cell_type": "code",
      "source": [
        "mlflow.set_tracking_uri(LOCAL_REGISTRY)"
      ],
      "metadata": {
        "id": "u2V-P-aC4b8c"
      },
      "execution_count": null,
      "outputs": []
    },
    {
      "cell_type": "markdown",
      "source": [
        "MLFlow terminology:\n",
        "Experiment vs Run\n",
        "\n",
        "A run is a single execution of model code.\n",
        "During an MLflow run, you can log model parameters and results.\n",
        "An experiment is a collection of related runs.\n",
        "\n",
        "\n"
      ],
      "metadata": {
        "id": "FT5x3-anEMcH"
      }
    },
    {
      "cell_type": "markdown",
      "source": [
        "Nested runs also exists:\n",
        "\n",
        "Nested runs are typically used to log components or sub-processes within a single, larger run. For example, you might have a top-level run for a complete model training pipeline, and then use nested runs to log steps like data preprocessing, feature engineering, or evaluating on different datasets.\n"
      ],
      "metadata": {
        "id": "0QPCO7V5O9TU"
      }
    },
    {
      "cell_type": "markdown",
      "source": [
        "The Default Experiment is always present from the start\n",
        "\n",
        "While MLflow does provide a default experiment, it primarily serves as a 'catch-all' safety net for runs initiated without a specified active experiment.\n"
      ],
      "metadata": {
        "id": "ELH93Aa7tMf5"
      }
    },
    {
      "cell_type": "code",
      "source": [
        "print(mlfclient.search_experiments())\n"
      ],
      "metadata": {
        "colab": {
          "base_uri": "https://localhost:8080/"
        },
        "id": "KTITRtd3tN_X",
        "outputId": "61da6434-f20f-4136-d1c6-1733eb9b6907"
      },
      "execution_count": null,
      "outputs": [
        {
          "output_type": "stream",
          "name": "stdout",
          "text": [
            "[<Experiment: artifact_location='/content/mlruns/0', creation_time=1751404869785, experiment_id='0', last_update_time=1751404869785, lifecycle_stage='active', name='Default', tags={}>]\n"
          ]
        }
      ]
    },
    {
      "cell_type": "markdown",
      "source": [
        "When Should You Define an Experiment based on documentation:\n",
        "\n",
        "The guiding principle for creating an experiment is the consistency of the input data. \tIf multiple runs use the same input dataset (even if they utilize different portions of it), they logically belong to the same experiment. For other hierarchical categorizations, using tags is advisable.\n",
        "\n"
      ],
      "metadata": {
        "id": "-t3whN7tJu_R"
      }
    },
    {
      "cell_type": "markdown",
      "source": [
        "File directory and .db file is created based on variables then"
      ],
      "metadata": {
        "id": "SiFSuhHjBgAQ"
      }
    },
    {
      "cell_type": "markdown",
      "source": [
        "The mlruns directory primarily contains the artifacts and metadata associated with your MLflow runs. Each subdirectory within mlruns corresponds to an experiment, and within each experiment directory, you'll find subdirectories for individual runs. These run directories contain the logged parameters, metrics, and artifacts (like model files, plots, etc.) for that specific run.\n",
        "\n"
      ],
      "metadata": {
        "id": "S2nQRIei60u7"
      }
    },
    {
      "cell_type": "code",
      "source": [
        "!ls"
      ],
      "metadata": {
        "colab": {
          "base_uri": "https://localhost:8080/"
        },
        "id": "BwAEsVh1BZA7",
        "outputId": "8f06449e-af66-45ca-bd63-46aceba1a5e2"
      },
      "execution_count": null,
      "outputs": [
        {
          "output_type": "stream",
          "name": "stdout",
          "text": [
            "mlruns\tsample_data  tutorial_mlflow.db\n"
          ]
        }
      ]
    },
    {
      "cell_type": "code",
      "source": [
        "experiment_tags = {\n",
        "    \"project_name\": \"tutorials-to-learn-ml\",\n",
        "}\n",
        "\n",
        "active_experiment = mlfclient.get_experiment_by_name(EXPERIMENT_NAME)\n",
        "if active_experiment is None:\n",
        "    mlfclient.create_experiment(name=EXPERIMENT_NAME, tags=experiment_tags)\n",
        "\n",
        "\n",
        "active_experiment = mlflow.set_experiment(EXPERIMENT_NAME)\n",
        "active_experiment_id = active_experiment.experiment_id"
      ],
      "metadata": {
        "id": "iK5Zlj0et_0p"
      },
      "execution_count": null,
      "outputs": []
    },
    {
      "cell_type": "markdown",
      "source": [
        "Now a new experiment was created with new id"
      ],
      "metadata": {
        "id": "s9K9lQjSCFHT"
      }
    },
    {
      "cell_type": "code",
      "source": [
        "active_experiment_id"
      ],
      "metadata": {
        "colab": {
          "base_uri": "https://localhost:8080/",
          "height": 36
        },
        "id": "BvqsPO4SBo3-",
        "outputId": "dc52d05f-7ccc-403a-87d4-04da365d0014"
      },
      "execution_count": null,
      "outputs": [
        {
          "output_type": "execute_result",
          "data": {
            "text/plain": [
              "'1'"
            ],
            "application/vnd.google.colaboratory.intrinsic+json": {
              "type": "string"
            }
          },
          "metadata": {},
          "execution_count": 12
        }
      ]
    },
    {
      "cell_type": "code",
      "source": [
        "mlfclient.search_experiments(filter_string=\"tags.`project_name` = 'tutorials-to-learn-ml'\")"
      ],
      "metadata": {
        "id": "o2Ng3iPUKhRu",
        "colab": {
          "base_uri": "https://localhost:8080/"
        },
        "outputId": "84761b2e-f92d-4430-f96d-73a57bee180d"
      },
      "execution_count": null,
      "outputs": [
        {
          "output_type": "execute_result",
          "data": {
            "text/plain": [
              "[<Experiment: artifact_location='/content/mlruns/1', creation_time=1751404878902, experiment_id='1', last_update_time=1751404878902, lifecycle_stage='active', name='FastAi MLFlow Tutorial', tags={'project_name': 'tutorials-to-learn-ml'}>]"
            ]
          },
          "metadata": {},
          "execution_count": 13
        }
      ]
    },
    {
      "cell_type": "code",
      "source": [
        "print(len(mlfclient.search_experiments()), mlfclient.search_experiments())"
      ],
      "metadata": {
        "colab": {
          "base_uri": "https://localhost:8080/"
        },
        "id": "IuF0lyQsCVQn",
        "outputId": "a68aa086-d20a-4910-a22a-66f081baba57"
      },
      "execution_count": null,
      "outputs": [
        {
          "output_type": "stream",
          "name": "stdout",
          "text": [
            "2 [<Experiment: artifact_location='/content/mlruns/1', creation_time=1751404878902, experiment_id='1', last_update_time=1751404878902, lifecycle_stage='active', name='FastAi MLFlow Tutorial', tags={'project_name': 'tutorials-to-learn-ml'}>, <Experiment: artifact_location='/content/mlruns/0', creation_time=1751404869785, experiment_id='0', last_update_time=1751404869785, lifecycle_stage='active', name='Default', tags={}>]\n"
          ]
        }
      ]
    },
    {
      "cell_type": "markdown",
      "source": [
        "Experiment was created in the current directory"
      ],
      "metadata": {
        "id": "Xmrd1Da4kttL"
      }
    },
    {
      "cell_type": "markdown",
      "source": [
        "Callback to save the metrics during model epochs"
      ],
      "metadata": {
        "id": "JYHg4vCMWWN_"
      }
    },
    {
      "cell_type": "markdown",
      "source": [
        "https://docs.fast.ai/callback.core.html#attributes-available-to-callbacks"
      ],
      "metadata": {
        "id": "pSrGL3wX2z5H"
      }
    },
    {
      "cell_type": "code",
      "source": [
        "from mlflow import MlflowClient\n",
        "from typing import List\n",
        "\n",
        "class MLFlowTracking(Callback):\n",
        "\t\"A `LearnerCallback` that tracks the loss and other metrics into MLFlow\"\n",
        "\n",
        "\tdef __init__(self,\n",
        "            metric_names:List[str],\n",
        "            client:MlflowClient,\n",
        "            run_id:str):\n",
        "\t\t\tself.client = client\n",
        "\t\t\tself.run_id = run_id\n",
        "\t\t\tself.metric_names = metric_names\n",
        "\n",
        "\tdef after_epoch(self):\n",
        "\t\t\"Compare the last value to the best up to now\"\n",
        "\t\tfor metric_name in self.metric_names:\n",
        "\t\t\tm_idx = list(self.recorder.metric_names[1:]).index(metric_name)\n",
        "\t\t\tif len(self.recorder.values) > 0:\n",
        "\t\t\t\tval = self.recorder.values[-1][m_idx]\n",
        "\t\t\t\tself.client.log_metric(self.run_id, metric_name, float(val), step=self.learn.epoch)"
      ],
      "metadata": {
        "id": "KiSgddCcWUcv"
      },
      "execution_count": null,
      "outputs": []
    },
    {
      "cell_type": "markdown",
      "source": [
        "**Callbacks in fastai can be defined on 2 different places**\n",
        "\n",
        "- on learner -> core callbacks that are always active during training\n",
        "- on fit method call -> This allows you to have core callbacks that are always active for your learner and add specific callbacks for particular training phases (like early stopping for fine-tuning).\n",
        "\n"
      ],
      "metadata": {
        "id": "knf1dqBUaT7r"
      }
    },
    {
      "cell_type": "code",
      "source": [
        "SPLIT_SEED = 42\n",
        "VALID_PCT = 0.2\n",
        "BATCH_SIZE = 64"
      ],
      "metadata": {
        "id": "1JEafz5Ydd9w"
      },
      "execution_count": null,
      "outputs": []
    },
    {
      "cell_type": "code",
      "source": [
        "params_training_all_runs = {'data_split': 'random',\n",
        "    'split_seed': SPLIT_SEED,\n",
        "    'split_valid_pct': VALID_PCT,\n",
        "    'item_tfms': 'Resize(460)',\n",
        "    'batch_tfms': 'aug_transforms(size=224, min_scale=0.75)',\n",
        "    'batch_size': BATCH_SIZE,\n",
        "    'model_name': 'resnet18_pretrained',\n",
        "}"
      ],
      "metadata": {
        "id": "mWTxo2FNcVEq"
      },
      "execution_count": null,
      "outputs": []
    },
    {
      "cell_type": "code",
      "source": [
        "params_training_all_runs"
      ],
      "metadata": {
        "colab": {
          "base_uri": "https://localhost:8080/"
        },
        "id": "ijmCCUCimo5D",
        "outputId": "35d6e211-3d80-4569-8949-1629f02f3043"
      },
      "execution_count": null,
      "outputs": [
        {
          "output_type": "execute_result",
          "data": {
            "text/plain": [
              "{'data_split': 'random',\n",
              " 'split_seed': 42,\n",
              " 'split_valid_pct': 0.2,\n",
              " 'item_tfms': 'Resize(460)',\n",
              " 'batch_tfms': 'aug_transforms(size=224, min_scale=0.75)',\n",
              " 'batch_size': 64,\n",
              " 'model_name': 'resnet18_pretrained'}"
            ]
          },
          "metadata": {},
          "execution_count": 18
        }
      ]
    },
    {
      "cell_type": "markdown",
      "source": [
        "aug_transforms  is a list, so it needs to be unpacked, with * operator:\n",
        "aug_transforms(size=224, min_scale=0.75)"
      ],
      "metadata": {
        "id": "L4haUiJfensj"
      }
    },
    {
      "cell_type": "code",
      "source": [
        "path = untar_data(URLs.MNIST)\n",
        "train_path = path / 'training'"
      ],
      "metadata": {
        "id": "d2n4kqoTbfxP"
      },
      "execution_count": null,
      "outputs": []
    },
    {
      "cell_type": "code",
      "source": [
        "mnist = DataBlock(blocks = (ImageBlock, CategoryBlock),\n",
        "                 get_items = get_image_files,\n",
        "                 get_y = parent_label,\n",
        "                 batch_tfms=[Normalize.from_stats(*imagenet_stats), *aug_transforms(size=224, min_scale=0.75)],\n",
        "                 item_tfms = Resize(460),\n",
        "                 splitter = RandomSplitter(valid_pct = VALID_PCT, seed = SPLIT_SEED))\n",
        "\n",
        "dls = mnist.dataloaders(train_path, bs=BATCH_SIZE)"
      ],
      "metadata": {
        "id": "d3DZ8Iod58px"
      },
      "execution_count": null,
      "outputs": []
    },
    {
      "cell_type": "code",
      "source": [
        "learn = vision_learner(dls, resnet18, metrics=error_rate)"
      ],
      "metadata": {
        "id": "SbDDHI2nkqd_"
      },
      "execution_count": null,
      "outputs": []
    },
    {
      "cell_type": "markdown",
      "source": [
        "Example of running to consecutive runs, on the same learner"
      ],
      "metadata": {
        "id": "_sw3MFKJnaMm"
      }
    },
    {
      "cell_type": "code",
      "source": [
        "def log_mlflow_params(mlfclient, run, params):\n",
        "  for k, v in params.items():\n",
        "      mlfclient.log_param(run_id=run.info.run_id, key=k, value=v)\n"
      ],
      "metadata": {
        "id": "L2X-jXVZqq2w"
      },
      "execution_count": null,
      "outputs": []
    },
    {
      "cell_type": "markdown",
      "source": [
        "To use the MLflow model registry, you need to add your MLflow models to it. This is done through registering a given model via one of the below commands:\n",
        "\n",
        "- mlflow.'model_flavor'.log_model(registered_model_name='model_name'):\n",
        "    register the model while logging it to the tracking server.\n",
        "- mlflow.register_model('model_uri', 'model_name'): register the model after logging it to the tracking server.\n",
        "  Note that you'll have to log the model before running this command to get a model URI.\n",
        "\n",
        "\n"
      ],
      "metadata": {
        "id": "IMkIC76XAVoL"
      }
    },
    {
      "cell_type": "markdown",
      "source": [
        "you can log a fastai model in MLflow without using the deprecated mlflow.fastai module, by exporting the model and logging the exported file as an artifact.\n",
        "\n",
        "Logging a model as an artifact using mlflow.log_artifact will save the model file within the run's artifacts, but it will not automatically register it under the \"Models\" section in the MLflow UI.\n",
        "\n"
      ],
      "metadata": {
        "id": "3I89D3eBicf7"
      }
    },
    {
      "cell_type": "code",
      "source": [
        "def save_fastai_model_as_artifact(mlfclient, run_id,  learner, exported_model_filename, artifact_path = 'fastai_model'):\n",
        "\n",
        "    learner.export(exported_model_filename)\n",
        "    mlfclient.log_artifact(run_id,\n",
        "        local_path=exported_model_filename,\n",
        "        artifact_path=artifact_path,\n",
        "    )\n",
        "\n",
        "    print(\"artifact_uri saved as model\")\n",
        "    print(f\"runs:/{run_id}/{artifact_path}/{exported_model_filename}\")\n",
        "\n",
        "    # clear the exported fastai model\n",
        "    os.remove(exported_model_filename)"
      ],
      "metadata": {
        "id": "s1zUl4XHhaOv"
      },
      "execution_count": null,
      "outputs": []
    },
    {
      "cell_type": "code",
      "source": [
        "def fastai_model_from_artifact(artifact_uri):\n",
        "    local_download_path = mlflow.artifacts.download_artifacts(artifact_uri=artifact_uri)\n",
        "    return load_learner(local_download_path)"
      ],
      "metadata": {
        "id": "DKqjK6Bwkino"
      },
      "execution_count": null,
      "outputs": []
    },
    {
      "cell_type": "code",
      "source": [
        "with mlflow.start_run(experiment_id=active_experiment_id, run_name='resnet18_prertained_01_final_layers') as run:\n",
        "    log_mlflow_params(mlfclient, run, params_training_all_runs)\n",
        "\n",
        "    run_params = {\"learning_rate\": 0.01, \"pct_start\": 0.99, \"num_epochs\": 4}\n",
        "    log_mlflow_params(mlfclient, run, run_params)\n",
        "\n",
        "    cb_mlflow = MLFlowTracking(metric_names=['valid_loss', 'train_loss', 'error_rate'], client=mlfclient, run_id=run.info.run_id)\n",
        "\n",
        "    learn.freeze()\n",
        "    learn.fit_one_cycle(run_params['num_epochs'], run_params['learning_rate'], pct_start=run_params['pct_start'], cbs=[cb_mlflow])\n",
        "\n",
        "    save_fastai_model_as_artifact(mlfclient, run.info.run_id, learn, 'fastai_resnet18_01.pkl')"
      ],
      "metadata": {
        "id": "qCail0y8YxDh",
        "colab": {
          "base_uri": "https://localhost:8080/",
          "height": 209
        },
        "outputId": "5d849a2e-3ede-452b-91aa-f4b40df79489"
      },
      "execution_count": null,
      "outputs": [
        {
          "output_type": "display_data",
          "data": {
            "text/plain": [
              "<IPython.core.display.HTML object>"
            ],
            "text/html": [
              "\n",
              "<style>\n",
              "    /* Turns off some styling */\n",
              "    progress {\n",
              "        /* gets rid of default border in Firefox and Opera. */\n",
              "        border: none;\n",
              "        /* Needs to be in here for Safari polyfill so background images work as expected. */\n",
              "        background-size: auto;\n",
              "    }\n",
              "    progress:not([value]), progress:not([value])::-webkit-progress-bar {\n",
              "        background: repeating-linear-gradient(45deg, #7e7e7e, #7e7e7e 10px, #5c5c5c 10px, #5c5c5c 20px);\n",
              "    }\n",
              "    .progress-bar-interrupted, .progress-bar-interrupted::-webkit-progress-bar {\n",
              "        background: #F44336;\n",
              "    }\n",
              "</style>\n"
            ]
          },
          "metadata": {}
        },
        {
          "output_type": "display_data",
          "data": {
            "text/plain": [
              "<IPython.core.display.HTML object>"
            ],
            "text/html": [
              "<table border=\"1\" class=\"dataframe\">\n",
              "  <thead>\n",
              "    <tr style=\"text-align: left;\">\n",
              "      <th>epoch</th>\n",
              "      <th>train_loss</th>\n",
              "      <th>valid_loss</th>\n",
              "      <th>error_rate</th>\n",
              "      <th>time</th>\n",
              "    </tr>\n",
              "  </thead>\n",
              "  <tbody>\n",
              "    <tr>\n",
              "      <td>0</td>\n",
              "      <td>0.190921</td>\n",
              "      <td>0.092403</td>\n",
              "      <td>0.030667</td>\n",
              "      <td>04:47</td>\n",
              "    </tr>\n",
              "    <tr>\n",
              "      <td>1</td>\n",
              "      <td>0.183168</td>\n",
              "      <td>0.134663</td>\n",
              "      <td>0.040917</td>\n",
              "      <td>04:36</td>\n",
              "    </tr>\n",
              "    <tr>\n",
              "      <td>2</td>\n",
              "      <td>0.166260</td>\n",
              "      <td>0.095721</td>\n",
              "      <td>0.027500</td>\n",
              "      <td>04:37</td>\n",
              "    </tr>\n",
              "    <tr>\n",
              "      <td>3</td>\n",
              "      <td>0.118813</td>\n",
              "      <td>0.054045</td>\n",
              "      <td>0.016667</td>\n",
              "      <td>04:36</td>\n",
              "    </tr>\n",
              "  </tbody>\n",
              "</table>"
            ]
          },
          "metadata": {}
        },
        {
          "output_type": "stream",
          "name": "stdout",
          "text": [
            "artifact_uri saved as model\n",
            "runs:/e850b2bfbf7e4fe1b2039d5028942226/fastai_model/fastai_resnet18_01.pkl\n"
          ]
        }
      ]
    },
    {
      "cell_type": "code",
      "source": [
        "with mlflow.start_run(experiment_id=active_experiment_id, run_name='resnet18_prertained_02_unfreezed layers') as run:\n",
        "    log_mlflow_params(mlfclient, run, params_training_all_runs)\n",
        "\n",
        "    run_params = {\"learning_rate_min\": 0.0001, \"learning_rate_max\": 0.001, \"pct_start\": 0.3, \"num_epochs\": 8, \"div\": 5.0}\n",
        "    log_mlflow_params(mlfclient, run, run_params)\n",
        "\n",
        "    cb_mlflow = MLFlowTracking(metric_names=['valid_loss', 'train_loss', 'error_rate'], client=mlfclient, run_id=run.info.run_id)\n",
        "\n",
        "    learn.unfreeze()\n",
        "    learn.fit_one_cycle(run_params['num_epochs'], slice(run_params['learning_rate_min'], run_params['learning_rate_max']),\n",
        "                        pct_start=run_params['pct_start'], div=run_params['div'],\n",
        "                        cbs=[cb_mlflow, EarlyStoppingCallback(min_delta=0.001, patience=2)])\n",
        "\n",
        "    save_fastai_model_as_artifact(mlfclient, run.info.run_id, learn, 'fastai_resnet18_02.pkl')"
      ],
      "metadata": {
        "id": "2Qp_BcMCskmT",
        "colab": {
          "base_uri": "https://localhost:8080/",
          "height": 335
        },
        "outputId": "24558c9a-c1d8-4869-ef06-c68751bf6a88"
      },
      "execution_count": null,
      "outputs": [
        {
          "output_type": "display_data",
          "data": {
            "text/plain": [
              "<IPython.core.display.HTML object>"
            ],
            "text/html": [
              "\n",
              "<style>\n",
              "    /* Turns off some styling */\n",
              "    progress {\n",
              "        /* gets rid of default border in Firefox and Opera. */\n",
              "        border: none;\n",
              "        /* Needs to be in here for Safari polyfill so background images work as expected. */\n",
              "        background-size: auto;\n",
              "    }\n",
              "    progress:not([value]), progress:not([value])::-webkit-progress-bar {\n",
              "        background: repeating-linear-gradient(45deg, #7e7e7e, #7e7e7e 10px, #5c5c5c 10px, #5c5c5c 20px);\n",
              "    }\n",
              "    .progress-bar-interrupted, .progress-bar-interrupted::-webkit-progress-bar {\n",
              "        background: #F44336;\n",
              "    }\n",
              "</style>\n"
            ]
          },
          "metadata": {}
        },
        {
          "output_type": "display_data",
          "data": {
            "text/plain": [
              "<IPython.core.display.HTML object>"
            ],
            "text/html": [
              "<table border=\"1\" class=\"dataframe\">\n",
              "  <thead>\n",
              "    <tr style=\"text-align: left;\">\n",
              "      <th>epoch</th>\n",
              "      <th>train_loss</th>\n",
              "      <th>valid_loss</th>\n",
              "      <th>error_rate</th>\n",
              "      <th>time</th>\n",
              "    </tr>\n",
              "  </thead>\n",
              "  <tbody>\n",
              "    <tr>\n",
              "      <td>0</td>\n",
              "      <td>0.094031</td>\n",
              "      <td>0.061326</td>\n",
              "      <td>0.019667</td>\n",
              "      <td>04:43</td>\n",
              "    </tr>\n",
              "    <tr>\n",
              "      <td>1</td>\n",
              "      <td>0.094099</td>\n",
              "      <td>0.061668</td>\n",
              "      <td>0.019167</td>\n",
              "      <td>04:45</td>\n",
              "    </tr>\n",
              "    <tr>\n",
              "      <td>2</td>\n",
              "      <td>0.073661</td>\n",
              "      <td>0.049875</td>\n",
              "      <td>0.015333</td>\n",
              "      <td>04:41</td>\n",
              "    </tr>\n",
              "    <tr>\n",
              "      <td>3</td>\n",
              "      <td>0.072585</td>\n",
              "      <td>0.043312</td>\n",
              "      <td>0.013167</td>\n",
              "      <td>04:40</td>\n",
              "    </tr>\n",
              "    <tr>\n",
              "      <td>4</td>\n",
              "      <td>0.041572</td>\n",
              "      <td>0.028902</td>\n",
              "      <td>0.008917</td>\n",
              "      <td>04:39</td>\n",
              "    </tr>\n",
              "    <tr>\n",
              "      <td>5</td>\n",
              "      <td>0.032185</td>\n",
              "      <td>0.027033</td>\n",
              "      <td>0.007833</td>\n",
              "      <td>04:41</td>\n",
              "    </tr>\n",
              "    <tr>\n",
              "      <td>6</td>\n",
              "      <td>0.025064</td>\n",
              "      <td>0.022558</td>\n",
              "      <td>0.007167</td>\n",
              "      <td>04:41</td>\n",
              "    </tr>\n",
              "    <tr>\n",
              "      <td>7</td>\n",
              "      <td>0.028147</td>\n",
              "      <td>0.023244</td>\n",
              "      <td>0.007583</td>\n",
              "      <td>04:42</td>\n",
              "    </tr>\n",
              "  </tbody>\n",
              "</table>"
            ]
          },
          "metadata": {}
        },
        {
          "output_type": "stream",
          "name": "stdout",
          "text": [
            "artifact_uri saved as model\n",
            "runs:/b2d08a1fb88547f88b877a8bf7f45f87/fastai_model/fastai_resnet18_02.pkl\n"
          ]
        }
      ]
    },
    {
      "cell_type": "code",
      "source": [
        "# how to get the last run id, when reruning the experiment again or saving the artifacts for the experiment\n",
        "def get_last_run_id(mlfclient, active_experiment_id):\n",
        "    runs = mlfclient.search_runs(\n",
        "        experiment_ids=[active_experiment_id],\n",
        "        order_by=[\"start_time DESC\"],\n",
        "        max_results=1,\n",
        "    )\n",
        "    return runs[0] if runs else None"
      ],
      "metadata": {
        "id": "G9xvCyEMNfi5"
      },
      "execution_count": null,
      "outputs": []
    },
    {
      "cell_type": "code",
      "source": [
        "run = get_last_run_id(mlfclient, active_experiment_id)"
      ],
      "metadata": {
        "id": "fQF_6XOZeBFY"
      },
      "execution_count": null,
      "outputs": []
    },
    {
      "cell_type": "markdown",
      "source": [
        "How to save an artifact from learner"
      ],
      "metadata": {
        "id": "zSXCmU89VJEu"
      }
    },
    {
      "cell_type": "code",
      "source": [
        "loss_plot_path = \"loss_plot.png\"\n",
        "learn.recorder.plot_loss(show_epochs=True).figure.savefig(loss_plot_path)\n",
        "\n",
        "# Log the plot as an artifact to the  MLflow run\n",
        "mlfclient.log_artifact(run.info.run_id, local_path=loss_plot_path,\n",
        "        artifact_path='figures')"
      ],
      "metadata": {
        "id": "kaB5MGgxVIFu"
      },
      "execution_count": null,
      "outputs": []
    },
    {
      "cell_type": "code",
      "source": [
        "learner1 = fastai_model_from_artifact('runs:/454be886fd9a4e3dad8ab5ee3c9c1029/fastai_model/fastai_resnet18_01.pkl')"
      ],
      "metadata": {
        "colab": {
          "base_uri": "https://localhost:8080/",
          "height": 121,
          "referenced_widgets": [
            "8f31357c8a1e42a99d36a0bbec9d79a4",
            "950403153b8c4dae9ed91d86542031bd",
            "81e1658b543647ff99dc1c55a39e519d",
            "728e95deb8554edba43ffbbbca2d65a9",
            "1b52487f81f0474598940ae365875b9f",
            "56985584b7b64bcda8b2eb711cdcdd87",
            "f513ff2ef62c4cae9757acf3ede8f6b6",
            "84019bd338e1448d81bcd0ab074be1fd",
            "472ea34493de4819aabde9a9aea5387d",
            "fcfca4dd779848cf8fa1d4e5b449a3ed",
            "46920eeba82e400cb64a5cc0e92e9b62"
          ]
        },
        "id": "vy0rsKyVFQZp",
        "outputId": "145660b2-2db9-49c8-d2a7-adcf661c26a0"
      },
      "execution_count": null,
      "outputs": [
        {
          "output_type": "display_data",
          "data": {
            "text/plain": [
              "Downloading artifacts:   0%|          | 0/1 [00:00<?, ?it/s]"
            ],
            "application/vnd.jupyter.widget-view+json": {
              "version_major": 2,
              "version_minor": 0,
              "model_id": "8f31357c8a1e42a99d36a0bbec9d79a4"
            }
          },
          "metadata": {}
        },
        {
          "output_type": "stream",
          "name": "stderr",
          "text": [
            "/usr/local/lib/python3.11/dist-packages/fastai/learner.py:455: UserWarning: load_learner` uses Python's insecure pickle module, which can execute malicious arbitrary code when loading. Only load files you trust.\n",
            "If you only need to load model weights and optimizer state, use the safe `Learner.load` instead.\n",
            "  warn(\"load_learner` uses Python's insecure pickle module, which can execute malicious arbitrary code when loading. Only load files you trust.\\nIf you only need to load model weights and optimizer state, use the safe `Learner.load` instead.\")\n"
          ]
        }
      ]
    },
    {
      "cell_type": "markdown",
      "source": [
        "When saving fastai model it saves the model architecture, weights, and optimizer state, but it doesn't save the DataLoaders object itself.\n",
        "You need to recreate dataloader yourself and save it to learner"
      ],
      "metadata": {
        "id": "347KLndMJA5n"
      }
    },
    {
      "cell_type": "code",
      "source": [
        "learner1.dls = dls"
      ],
      "metadata": {
        "id": "Nrwx74caFYYG"
      },
      "execution_count": null,
      "outputs": []
    },
    {
      "cell_type": "markdown",
      "source": [
        "We can see in model summary, that learner is still frozen in first layers.\n",
        "\n",
        "Total non-trainable params: 11,166,912:"
      ],
      "metadata": {
        "id": "i9p80CICJsp0"
      }
    },
    {
      "cell_type": "code",
      "source": [
        "learner1.summary()"
      ],
      "metadata": {
        "colab": {
          "base_uri": "https://localhost:8080/",
          "height": 1000
        },
        "id": "WNYrLLbQGArN",
        "outputId": "92d31738-4ed5-4381-f89b-3b26de3089d2"
      },
      "execution_count": null,
      "outputs": [
        {
          "output_type": "display_data",
          "data": {
            "text/plain": [
              "<IPython.core.display.HTML object>"
            ],
            "text/html": [
              "\n",
              "<style>\n",
              "    /* Turns off some styling */\n",
              "    progress {\n",
              "        /* gets rid of default border in Firefox and Opera. */\n",
              "        border: none;\n",
              "        /* Needs to be in here for Safari polyfill so background images work as expected. */\n",
              "        background-size: auto;\n",
              "    }\n",
              "    progress:not([value]), progress:not([value])::-webkit-progress-bar {\n",
              "        background: repeating-linear-gradient(45deg, #7e7e7e, #7e7e7e 10px, #5c5c5c 10px, #5c5c5c 20px);\n",
              "    }\n",
              "    .progress-bar-interrupted, .progress-bar-interrupted::-webkit-progress-bar {\n",
              "        background: #F44336;\n",
              "    }\n",
              "</style>\n"
            ]
          },
          "metadata": {}
        },
        {
          "output_type": "display_data",
          "data": {
            "text/plain": [
              "<IPython.core.display.HTML object>"
            ],
            "text/html": []
          },
          "metadata": {}
        },
        {
          "output_type": "execute_result",
          "data": {
            "text/plain": [
              "Sequential (Input shape: 64 x 3 x 224 x 224)\n",
              "============================================================================\n",
              "Layer (type)         Output Shape         Param #    Trainable \n",
              "============================================================================\n",
              "                     64 x 64 x 112 x 112 \n",
              "Conv2d                                    9408       False     \n",
              "BatchNorm2d                               128        True      \n",
              "ReLU                                                           \n",
              "____________________________________________________________________________\n",
              "                     64 x 64 x 56 x 56   \n",
              "MaxPool2d                                                      \n",
              "Conv2d                                    36864      False     \n",
              "BatchNorm2d                               128        True      \n",
              "ReLU                                                           \n",
              "Conv2d                                    36864      False     \n",
              "BatchNorm2d                               128        True      \n",
              "Conv2d                                    36864      False     \n",
              "BatchNorm2d                               128        True      \n",
              "ReLU                                                           \n",
              "Conv2d                                    36864      False     \n",
              "BatchNorm2d                               128        True      \n",
              "____________________________________________________________________________\n",
              "                     64 x 128 x 28 x 28  \n",
              "Conv2d                                    73728      False     \n",
              "BatchNorm2d                               256        True      \n",
              "ReLU                                                           \n",
              "Conv2d                                    147456     False     \n",
              "BatchNorm2d                               256        True      \n",
              "Conv2d                                    8192       False     \n",
              "BatchNorm2d                               256        True      \n",
              "Conv2d                                    147456     False     \n",
              "BatchNorm2d                               256        True      \n",
              "ReLU                                                           \n",
              "Conv2d                                    147456     False     \n",
              "BatchNorm2d                               256        True      \n",
              "____________________________________________________________________________\n",
              "                     64 x 256 x 14 x 14  \n",
              "Conv2d                                    294912     False     \n",
              "BatchNorm2d                               512        True      \n",
              "ReLU                                                           \n",
              "Conv2d                                    589824     False     \n",
              "BatchNorm2d                               512        True      \n",
              "Conv2d                                    32768      False     \n",
              "BatchNorm2d                               512        True      \n",
              "Conv2d                                    589824     False     \n",
              "BatchNorm2d                               512        True      \n",
              "ReLU                                                           \n",
              "Conv2d                                    589824     False     \n",
              "BatchNorm2d                               512        True      \n",
              "____________________________________________________________________________\n",
              "                     64 x 512 x 7 x 7    \n",
              "Conv2d                                    1179648    False     \n",
              "BatchNorm2d                               1024       True      \n",
              "ReLU                                                           \n",
              "Conv2d                                    2359296    False     \n",
              "BatchNorm2d                               1024       True      \n",
              "Conv2d                                    131072     False     \n",
              "BatchNorm2d                               1024       True      \n",
              "Conv2d                                    2359296    False     \n",
              "BatchNorm2d                               1024       True      \n",
              "ReLU                                                           \n",
              "Conv2d                                    2359296    False     \n",
              "BatchNorm2d                               1024       True      \n",
              "____________________________________________________________________________\n",
              "                     64 x 512 x 1 x 1    \n",
              "AdaptiveAvgPool2d                                              \n",
              "AdaptiveMaxPool2d                                              \n",
              "____________________________________________________________________________\n",
              "                     64 x 1024           \n",
              "Flatten                                                        \n",
              "BatchNorm1d                               2048       True      \n",
              "Dropout                                                        \n",
              "____________________________________________________________________________\n",
              "                     64 x 512            \n",
              "Linear                                    524288     True      \n",
              "ReLU                                                           \n",
              "BatchNorm1d                               1024       True      \n",
              "Dropout                                                        \n",
              "____________________________________________________________________________\n",
              "                     64 x 10             \n",
              "Linear                                    5120       True      \n",
              "____________________________________________________________________________\n",
              "\n",
              "Total params: 11,708,992\n",
              "Total trainable params: 542,080\n",
              "Total non-trainable params: 11,166,912\n",
              "\n",
              "Optimizer used: <function Adam at 0x7aa64d4e82c0>\n",
              "Loss function: FlattenedLoss of CrossEntropyLoss()\n",
              "\n",
              "Callbacks:\n",
              "  - TrainEvalCallback\n",
              "  - CastToTensor\n",
              "  - Recorder\n",
              "  - ProgressCallback"
            ],
            "application/vnd.google.colaboratory.intrinsic+json": {
              "type": "string"
            }
          },
          "metadata": {},
          "execution_count": 46
        }
      ]
    },
    {
      "cell_type": "markdown",
      "source": [
        "**Server where experiments can be seen will run in background**"
      ],
      "metadata": {
        "id": "i9aOrMfhpmFN"
      }
    },
    {
      "cell_type": "code",
      "source": [
        "MLFLOW_PORT = 5000\n",
        "\n",
        "# run tracking UI in the background\n",
        "get_ipython().system_raw(f'mlflow ui --backend-store-uri {LOCAL_REGISTRY}  --port {MLFLOW_PORT} &')# run tracking UI in the background"
      ],
      "metadata": {
        "id": "8pjLr8mepkWe"
      },
      "execution_count": null,
      "outputs": []
    },
    {
      "cell_type": "markdown",
      "source": [
        "check for already acitve process, if present kill it."
      ],
      "metadata": {
        "id": "trH5iIDKXCtS"
      }
    },
    {
      "cell_type": "code",
      "source": [
        "!ps | egrep 'mlflow'"
      ],
      "metadata": {
        "id": "uT-WSZDNrLPl",
        "colab": {
          "base_uri": "https://localhost:8080/"
        },
        "outputId": "dbe212ad-7f06-4ff1-8f91-0f1d15b90e48"
      },
      "execution_count": null,
      "outputs": [
        {
          "output_type": "stream",
          "name": "stdout",
          "text": [
            "   7276 ?        00:00:01 mlflow\n"
          ]
        }
      ]
    },
    {
      "cell_type": "markdown",
      "source": [
        "Check that port number is not already open"
      ],
      "metadata": {
        "id": "1Lb-C38GXFk6"
      }
    },
    {
      "cell_type": "code",
      "source": [
        "!netstat -lntu"
      ],
      "metadata": {
        "id": "QRcZnmB60cS-",
        "colab": {
          "base_uri": "https://localhost:8080/"
        },
        "outputId": "b6d7c0dd-96f4-4e5c-bb5f-45ff368bfc52"
      },
      "execution_count": null,
      "outputs": [
        {
          "output_type": "stream",
          "name": "stdout",
          "text": [
            "Active Internet connections (only servers)\n",
            "Proto Recv-Q Send-Q Local Address           Foreign Address         State      \n",
            "tcp        0      0 172.28.0.12:9000        0.0.0.0:*               LISTEN     \n",
            "tcp        0      0 127.0.0.1:5000          0.0.0.0:*               LISTEN     \n",
            "tcp        0      0 127.0.0.11:34935        0.0.0.0:*               LISTEN     \n",
            "tcp        0      0 127.0.0.1:35663         0.0.0.0:*               LISTEN     \n",
            "tcp        0      0 127.0.0.1:43329         0.0.0.0:*               LISTEN     \n",
            "tcp        0      0 172.28.0.12:6000        0.0.0.0:*               LISTEN     \n",
            "tcp        0      0 127.0.0.1:3453          0.0.0.0:*               LISTEN     \n",
            "tcp        0      0 127.0.0.1:50763         0.0.0.0:*               LISTEN     \n",
            "tcp6       0      0 :::8080                 :::*                    LISTEN     \n",
            "udp        0      0 127.0.0.11:46033        0.0.0.0:*                          \n"
          ]
        }
      ]
    },
    {
      "cell_type": "markdown",
      "source": [
        "How to debug a process, you see the actual command that was used to create process"
      ],
      "metadata": {
        "id": "ijj1inIjW8Fc"
      }
    },
    {
      "cell_type": "code",
      "source": [
        "!cat /proc/21962/cmdline"
      ],
      "metadata": {
        "colab": {
          "base_uri": "https://localhost:8080/"
        },
        "id": "NI9e_7zPzgpf",
        "outputId": "17003154-6543-48f5-d15f-4510accef990"
      },
      "execution_count": null,
      "outputs": [
        {
          "output_type": "stream",
          "name": "stdout",
          "text": [
            "cat: /proc/21962/cmdline: No such file or directory\n"
          ]
        }
      ]
    },
    {
      "cell_type": "markdown",
      "source": [
        "Solution to view the server on google colab"
      ],
      "metadata": {
        "id": "9Yha-ybxpw9i"
      }
    },
    {
      "cell_type": "code",
      "source": [
        "# create remote tunnel using ngrok.com to allow local port access\n",
        "# borrowed from https://colab.research.google.com/github/alfozan/MLflow-GBRT-demo/blob/master/MLflow-GBRT-demo.ipynb#scrollTo=4h3bKHMYUIG6\n",
        "!pip install pyngrok --quiet\n",
        "from pyngrok import ngrok\n",
        "from google.colab import userdata"
      ],
      "metadata": {
        "id": "nAMZN6SirwQ6"
      },
      "execution_count": null,
      "outputs": []
    },
    {
      "cell_type": "markdown",
      "source": [
        "if you get error that session already runs andyou are only limited to 1 session, stop the session here:\n",
        "\n",
        "https://dashboard.ngrok.com/agents"
      ],
      "metadata": {
        "id": "k6bF5SMM06x0"
      }
    },
    {
      "cell_type": "code",
      "source": [
        "# Terminate open tunnels if exist\n",
        "ngrok.kill()\n",
        "\n",
        "# Setting the authtoken (optional)\n",
        "# Get your authtoken from https://dashboard.ngrok.com/get-started/your-authtoken\n",
        "ngrok.set_auth_token(userdata.get('NGROK_AUTH_TOKEN'))\n",
        "\n",
        "public_url = ngrok.connect(MLFLOW_PORT).public_url\n",
        "print(\"MLflow Tracking UI:\", public_url)"
      ],
      "metadata": {
        "colab": {
          "base_uri": "https://localhost:8080/"
        },
        "id": "pB3PdEt-m9Iz",
        "outputId": "9421039d-cc80-4499-b3ed-217e47977a1c"
      },
      "execution_count": null,
      "outputs": [
        {
          "output_type": "stream",
          "name": "stdout",
          "text": [
            "MLflow Tracking UI: https://1211-34-126-71-140.ngrok-free.app\n"
          ]
        }
      ]
    },
    {
      "cell_type": "code",
      "source": [
        "!ps | egrep 'ngrok'"
      ],
      "metadata": {
        "colab": {
          "base_uri": "https://localhost:8080/"
        },
        "id": "3-GeCEL1q368",
        "outputId": "4c9dd985-e19b-4f0c-b09c-76cc50ac04c7"
      },
      "execution_count": null,
      "outputs": [
        {
          "output_type": "stream",
          "name": "stdout",
          "text": [
            "  10131 ?        00:00:01 ngrok\n"
          ]
        }
      ]
    },
    {
      "cell_type": "markdown",
      "source": [
        "alternative for colab is to use external tracking server, instead of your own:\n",
        "\n",
        "https://mlflow.org/docs/latest/ml/getting-started/tracking-server-overview/#method-2-use-free-hosted-tracking-server-databricks-free-trial"
      ],
      "metadata": {
        "id": "w6bST0Rea-do"
      }
    }
  ]
}
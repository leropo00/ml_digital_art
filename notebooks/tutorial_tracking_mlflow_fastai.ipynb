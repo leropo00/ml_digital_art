{
  "nbformat": 4,
  "nbformat_minor": 0,
  "metadata": {
    "colab": {
      "provenance": []
    },
    "kernelspec": {
      "name": "python3",
      "display_name": "Python 3"
    },
    "language_info": {
      "name": "python"
    }
  },
  "cells": [
    {
      "cell_type": "markdown",
      "source": [
        "FastAI reference, for training vision functions, on a simpler dataset MINST."
      ],
      "metadata": {
        "id": "PlHr2aNrA2SZ"
      }
    },
    {
      "cell_type": "markdown",
      "source": [
        "From version mlflow 3 onwards fastai no longer has autologging"
      ],
      "metadata": {
        "id": "LO8SBHI5a0yg"
      }
    },
    {
      "cell_type": "code",
      "source": [
        "pip install fastai"
      ],
      "metadata": {
        "id": "Y5qzlwYSAxw9",
        "collapsed": true
      },
      "execution_count": null,
      "outputs": []
    },
    {
      "cell_type": "code",
      "source": [
        "pip install mlflow"
      ],
      "metadata": {
        "id": "QXSi4910Z2K5"
      },
      "execution_count": null,
      "outputs": []
    },
    {
      "cell_type": "code",
      "source": [
        "import mlflow"
      ],
      "metadata": {
        "id": "4Qf4c8w86OJF"
      },
      "execution_count": 3,
      "outputs": []
    },
    {
      "cell_type": "code",
      "source": [
        "!ls"
      ],
      "metadata": {
        "colab": {
          "base_uri": "https://localhost:8080/"
        },
        "id": "xibAFZl_zZvq",
        "outputId": "c4025de0-4a86-4111-a10d-0045e15c26d8"
      },
      "execution_count": 4,
      "outputs": [
        {
          "output_type": "stream",
          "name": "stdout",
          "text": [
            "sample_data\n"
          ]
        }
      ]
    },
    {
      "cell_type": "code",
      "source": [
        "# default value\n",
        "LOCAL_REGISTRY = \"sqlite:///mlruns.db\""
      ],
      "metadata": {
        "id": "5_Q4Qij30JOn"
      },
      "execution_count": null,
      "outputs": []
    },
    {
      "cell_type": "markdown",
      "source": [
        "**MLflow parameters**"
      ],
      "metadata": {
        "id": "3mk6FSnI4VGY"
      }
    },
    {
      "cell_type": "code",
      "source": [
        "LOCAL_REGISTRY = \"sqlite:///tutorial_mlflow.db\"\n",
        "MODEL_NAME = \"TutorialMlFlowModel\"\n",
        "\n",
        "EXPERIMENT_NAME = \"FastAi MLFlow Tutorial\""
      ],
      "metadata": {
        "id": "YCqO7pIRZrj8"
      },
      "execution_count": 5,
      "outputs": []
    },
    {
      "cell_type": "markdown",
      "source": [
        "Init the client and local default registry"
      ],
      "metadata": {
        "id": "BL9MZhL_BR38"
      }
    },
    {
      "cell_type": "code",
      "source": [
        "mlfclient = mlflow.tracking.MlflowClient(tracking_uri=LOCAL_REGISTRY)"
      ],
      "metadata": {
        "id": "tl8Ga02yqavf"
      },
      "execution_count": null,
      "outputs": []
    },
    {
      "cell_type": "code",
      "source": [
        "mlflow.set_tracking_uri(LOCAL_REGISTRY)"
      ],
      "metadata": {
        "id": "u2V-P-aC4b8c"
      },
      "execution_count": 8,
      "outputs": []
    },
    {
      "cell_type": "markdown",
      "source": [
        "MLFlow terminology:\n",
        "Experiment vs Run\n",
        "\n",
        "A run is a single execution of model code.\n",
        "During an MLflow run, you can log model parameters and results.\n",
        "An experiment is a collection of related runs.\n",
        "\n",
        "\n"
      ],
      "metadata": {
        "id": "FT5x3-anEMcH"
      }
    },
    {
      "cell_type": "markdown",
      "source": [
        "Nested runs also exists:\n",
        "\n",
        "Nested runs are typically used to log components or sub-processes within a single, larger run. For example, you might have a top-level run for a complete model training pipeline, and then use nested runs to log steps like data preprocessing, feature engineering, or evaluating on different datasets.\n"
      ],
      "metadata": {
        "id": "0QPCO7V5O9TU"
      }
    },
    {
      "cell_type": "markdown",
      "source": [
        "The Default Experiment is always present from the start\n",
        "\n",
        "While MLflow does provide a default experiment, it primarily serves as a 'catch-all' safety net for runs initiated without a specified active experiment.\n"
      ],
      "metadata": {
        "id": "ELH93Aa7tMf5"
      }
    },
    {
      "cell_type": "code",
      "source": [
        "print(mlfclient.search_experiments())\n"
      ],
      "metadata": {
        "colab": {
          "base_uri": "https://localhost:8080/"
        },
        "id": "KTITRtd3tN_X",
        "outputId": "a2c24718-461b-4a4c-fc75-dd8e304d78f6"
      },
      "execution_count": 9,
      "outputs": [
        {
          "output_type": "stream",
          "name": "stdout",
          "text": [
            "[<Experiment: artifact_location='/content/mlruns/0', creation_time=1751306824841, experiment_id='0', last_update_time=1751306824841, lifecycle_stage='active', name='Default', tags={}>]\n"
          ]
        }
      ]
    },
    {
      "cell_type": "markdown",
      "source": [
        "When Should You Define an Experiment based on documentation:\n",
        "\n",
        "The guiding principle for creating an experiment is the consistency of the input data. \tIf multiple runs use the same input dataset (even if they utilize different portions of it), they logically belong to the same experiment. For other hierarchical categorizations, using tags is advisable.\n",
        "\n"
      ],
      "metadata": {
        "id": "-t3whN7tJu_R"
      }
    },
    {
      "cell_type": "markdown",
      "source": [
        "File directory and .db file is created based on variables then"
      ],
      "metadata": {
        "id": "SiFSuhHjBgAQ"
      }
    },
    {
      "cell_type": "markdown",
      "source": [
        "The mlruns directory primarily contains the artifacts and metadata associated with your MLflow runs. Each subdirectory within mlruns corresponds to an experiment, and within each experiment directory, you'll find subdirectories for individual runs. These run directories contain the logged parameters, metrics, and artifacts (like model files, plots, etc.) for that specific run.\n",
        "\n"
      ],
      "metadata": {
        "id": "S2nQRIei60u7"
      }
    },
    {
      "cell_type": "code",
      "source": [
        "!ls"
      ],
      "metadata": {
        "colab": {
          "base_uri": "https://localhost:8080/"
        },
        "id": "BwAEsVh1BZA7",
        "outputId": "512a7aff-ffd8-49e6-96af-cc6bb8e6093e"
      },
      "execution_count": 11,
      "outputs": [
        {
          "output_type": "stream",
          "name": "stdout",
          "text": [
            "mlruns\tsample_data  tutorial_mlflow.db\n"
          ]
        }
      ]
    },
    {
      "cell_type": "code",
      "source": [
        "experiment_tags = {\n",
        "    \"project_name\": \"tutorials-to-learn-ml\",\n",
        "}\n",
        "\n",
        "active_experiment = mlfclient.get_experiment_by_name(EXPERIMENT_NAME)\n",
        "if active_experiment is None:\n",
        "    mlfclient.create_experiment(name=EXPERIMENT_NAME, tags=experiment_tags)\n",
        "\n",
        "\n",
        "active_experiment = mlflow.set_experiment(EXPERIMENT_NAME)\n",
        "active_experiment_id = active_experiment.experiment_id"
      ],
      "metadata": {
        "id": "iK5Zlj0et_0p"
      },
      "execution_count": 14,
      "outputs": []
    },
    {
      "cell_type": "markdown",
      "source": [
        "Now a new experiment was created with new id"
      ],
      "metadata": {
        "id": "s9K9lQjSCFHT"
      }
    },
    {
      "cell_type": "code",
      "source": [
        "active_experiment_id"
      ],
      "metadata": {
        "colab": {
          "base_uri": "https://localhost:8080/",
          "height": 36
        },
        "id": "BvqsPO4SBo3-",
        "outputId": "726cac2a-117f-4c83-cb0a-b33f1867b456"
      },
      "execution_count": 37,
      "outputs": [
        {
          "output_type": "execute_result",
          "data": {
            "text/plain": [
              "'1'"
            ],
            "application/vnd.google.colaboratory.intrinsic+json": {
              "type": "string"
            }
          },
          "metadata": {},
          "execution_count": 37
        }
      ]
    },
    {
      "cell_type": "code",
      "source": [
        "mlfclient.search_experiments(filter_string=\"tags.`project_name` = 'tutorials-to-learn-ml'\")"
      ],
      "metadata": {
        "id": "o2Ng3iPUKhRu",
        "colab": {
          "base_uri": "https://localhost:8080/"
        },
        "outputId": "b9ffd52f-c8b5-4914-f343-71b2e9d525b1"
      },
      "execution_count": 18,
      "outputs": [
        {
          "output_type": "execute_result",
          "data": {
            "text/plain": [
              "[<Experiment: artifact_location='/content/mlruns/1', creation_time=1751306896177, experiment_id='1', last_update_time=1751306896177, lifecycle_stage='active', name='FastAi MLFlow Tutorial', tags={'project_name': 'tutorials-to-learn-ml'}>]"
            ]
          },
          "metadata": {},
          "execution_count": 18
        }
      ]
    },
    {
      "cell_type": "code",
      "source": [
        "print(len(mlfclient.search_experiments()), mlfclient.search_experiments())"
      ],
      "metadata": {
        "colab": {
          "base_uri": "https://localhost:8080/"
        },
        "id": "IuF0lyQsCVQn",
        "outputId": "e225de71-96d2-4924-d26e-8840e2a62ee8"
      },
      "execution_count": 20,
      "outputs": [
        {
          "output_type": "stream",
          "name": "stdout",
          "text": [
            "2 [<Experiment: artifact_location='/content/mlruns/1', creation_time=1751306896177, experiment_id='1', last_update_time=1751306896177, lifecycle_stage='active', name='FastAi MLFlow Tutorial', tags={'project_name': 'tutorials-to-learn-ml'}>, <Experiment: artifact_location='/content/mlruns/0', creation_time=1751306824841, experiment_id='0', last_update_time=1751306824841, lifecycle_stage='active', name='Default', tags={}>]\n"
          ]
        }
      ]
    },
    {
      "cell_type": "markdown",
      "source": [
        "Experiment was created in the current directory"
      ],
      "metadata": {
        "id": "Xmrd1Da4kttL"
      }
    },
    {
      "cell_type": "markdown",
      "source": [
        "Callback to save the metrics during model epochs"
      ],
      "metadata": {
        "id": "JYHg4vCMWWN_"
      }
    },
    {
      "cell_type": "code",
      "source": [
        "from mlflow import MlflowClient\n",
        "from typing import List\n",
        "\n",
        "class MLFlowTracking(Callback):\n",
        "\t\"A `LearnerCallback` that tracks the loss and other metrics into MLFlow\"\n",
        "\n",
        "\tdef __init__(self,\n",
        "            metric_names:List[str],\n",
        "            client:MlflowClient,\n",
        "            run_id:str):\n",
        "\t\t\tself.client = client\n",
        "\t\t\tself.run_id = run_id\n",
        "\t\t\tself.metric_names = metric_names\n",
        "\n",
        "\tdef after_epoch(self):\n",
        "\t\t\"Compare the last value to the best up to now\"\n",
        "\t\tfor metric_name in self.metric_names:\n",
        "\t\t\tm_idx = list(self.recorder.metric_names[1:]).index(metric_name)\n",
        "\t\t\tif len(self.recorder.values) > 0:\n",
        "\t\t\t\tval = self.recorder.values[-1][m_idx]\n",
        "\t\t\t\tself.client.log_metric(self.run_id, metric_name, np.float(val), self.learn.n_epoch)\n"
      ],
      "metadata": {
        "id": "KiSgddCcWUcv"
      },
      "execution_count": 33,
      "outputs": []
    },
    {
      "cell_type": "markdown",
      "source": [
        "**Callbacks in fastai can be defined on 2 different places**\n",
        "\n",
        "- on learner -> core callbacks that are always active during training\n",
        "- on fit method call -> This allows you to have core callbacks that are always active for your learner and add specific callbacks for particular training phases (like early stopping for fine-tuning).\n",
        "\n"
      ],
      "metadata": {
        "id": "knf1dqBUaT7r"
      }
    },
    {
      "cell_type": "code",
      "source": [
        "SPLIT_SEED = 42\n",
        "VALID_PCT = 0.2\n",
        "BATCH_SIZE = 64"
      ],
      "metadata": {
        "id": "1JEafz5Ydd9w"
      },
      "execution_count": 23,
      "outputs": []
    },
    {
      "cell_type": "code",
      "source": [
        "params_training_all_runs = {'data_split': 'random',\n",
        "    'split_seed': SPLIT_SEED,\n",
        "    'split_valid_pct': VALID_PCT,\n",
        "    'item_tfms': 'Resize(460)',\n",
        "    'batch_tfms': 'aug_transforms(size=224, min_scale=0.75)',\n",
        "    'batch_size': BATCH_SIZE,\n",
        "    'model_name': 'resnet18_pretrained',\n",
        "}"
      ],
      "metadata": {
        "id": "mWTxo2FNcVEq"
      },
      "execution_count": 24,
      "outputs": []
    },
    {
      "cell_type": "code",
      "source": [
        "params_training_all_runs"
      ],
      "metadata": {
        "colab": {
          "base_uri": "https://localhost:8080/"
        },
        "id": "ijmCCUCimo5D",
        "outputId": "e6215fd0-2540-48ba-fda9-56da76bb4f42"
      },
      "execution_count": 25,
      "outputs": [
        {
          "output_type": "execute_result",
          "data": {
            "text/plain": [
              "{'data_split': 'random',\n",
              " 'split_seed': 42,\n",
              " 'split_valid_pct': 0.2,\n",
              " 'item_tfms': 'Resize(460)',\n",
              " 'batch_tfms': 'aug_transforms(size=224, min_scale=0.75)',\n",
              " 'batch_size': 64,\n",
              " 'model_name': 'resnet18_pretrained'}"
            ]
          },
          "metadata": {},
          "execution_count": 25
        }
      ]
    },
    {
      "cell_type": "markdown",
      "source": [
        "aug_transforms  is a list, so it needs to be unpacked, with * operator:\n",
        "aug_transforms(size=224, min_scale=0.75)"
      ],
      "metadata": {
        "id": "L4haUiJfensj"
      }
    },
    {
      "cell_type": "code",
      "source": [
        "from fastai.vision.all import *\n",
        "import os"
      ],
      "metadata": {
        "id": "Nh5XtqlQ5O5x"
      },
      "execution_count": 27,
      "outputs": []
    },
    {
      "cell_type": "code",
      "source": [
        "path = untar_data(URLs.MNIST)\n",
        "train_path = path / 'training'"
      ],
      "metadata": {
        "id": "d2n4kqoTbfxP",
        "colab": {
          "base_uri": "https://localhost:8080/",
          "height": 37
        },
        "outputId": "9d27ddb2-2a2f-4944-baa1-19befbe6e2a3"
      },
      "execution_count": 28,
      "outputs": [
        {
          "output_type": "display_data",
          "data": {
            "text/plain": [
              "<IPython.core.display.HTML object>"
            ],
            "text/html": [
              "\n",
              "<style>\n",
              "    /* Turns off some styling */\n",
              "    progress {\n",
              "        /* gets rid of default border in Firefox and Opera. */\n",
              "        border: none;\n",
              "        /* Needs to be in here for Safari polyfill so background images work as expected. */\n",
              "        background-size: auto;\n",
              "    }\n",
              "    progress:not([value]), progress:not([value])::-webkit-progress-bar {\n",
              "        background: repeating-linear-gradient(45deg, #7e7e7e, #7e7e7e 10px, #5c5c5c 10px, #5c5c5c 20px);\n",
              "    }\n",
              "    .progress-bar-interrupted, .progress-bar-interrupted::-webkit-progress-bar {\n",
              "        background: #F44336;\n",
              "    }\n",
              "</style>\n"
            ]
          },
          "metadata": {}
        },
        {
          "output_type": "display_data",
          "data": {
            "text/plain": [
              "<IPython.core.display.HTML object>"
            ],
            "text/html": [
              "\n",
              "    <div>\n",
              "      <progress value='15687680' class='' max='15683414' style='width:300px; height:20px; vertical-align: middle;'></progress>\n",
              "      100.03% [15687680/15683414 00:00&lt;00:00]\n",
              "    </div>\n",
              "    "
            ]
          },
          "metadata": {}
        }
      ]
    },
    {
      "cell_type": "code",
      "source": [
        "mnist = DataBlock(blocks = (ImageBlock, CategoryBlock),\n",
        "                 get_items = get_image_files,\n",
        "                 get_y = parent_label,\n",
        "                 batch_tfms=[Normalize.from_stats(*imagenet_stats), *aug_transforms(size=224, min_scale=0.75)],\n",
        "                 item_tfms = Resize(460),\n",
        "                 splitter = RandomSplitter(valid_pct = VALID_PCT, seed = SPLIT_SEED))\n",
        "\n",
        "dls = mnist.dataloaders(train_path, bs=BATCH_SIZE)"
      ],
      "metadata": {
        "id": "d3DZ8Iod58px"
      },
      "execution_count": 29,
      "outputs": []
    },
    {
      "cell_type": "code",
      "source": [
        "learn = vision_learner(dls, resnet18, metrics=error_rate)"
      ],
      "metadata": {
        "id": "SbDDHI2nkqd_"
      },
      "execution_count": null,
      "outputs": []
    },
    {
      "cell_type": "markdown",
      "source": [
        "Example of running to consecutive runs, on the same learner"
      ],
      "metadata": {
        "id": "_sw3MFKJnaMm"
      }
    },
    {
      "cell_type": "code",
      "source": [
        "def log_params(mlfclient, run, params):\n",
        "  for k, v in params.items():\n",
        "      mlfclient.log_param(run_id=run.info.run_id, key=k, value=v)\n"
      ],
      "metadata": {
        "id": "L2X-jXVZqq2w"
      },
      "execution_count": 31,
      "outputs": []
    },
    {
      "cell_type": "markdown",
      "source": [
        "To use the MLflow model registry, you need to add your MLflow models to it. This is done through registering a given model via one of the below commands:\n",
        "\n",
        "- mlflow.'model_flavor'.log_model(registered_model_name='model_name'):\n",
        "    register the model while logging it to the tracking server.\n",
        "- mlflow.register_model('model_uri', 'model_name'): register the model after logging it to the tracking server.\n",
        "  Note that you'll have to log the model before running this command to get a model URI.\n",
        "\n",
        "\n"
      ],
      "metadata": {
        "id": "IMkIC76XAVoL"
      }
    },
    {
      "cell_type": "markdown",
      "source": [
        "you can log a fastai model in MLflow without using the deprecated mlflow.fastai module, by exporting the model and logging the exported file as an artifact.\n",
        "\n",
        "No, logging a model as an artifact using mlflow.log_artifact will save the model file within the run's artifacts, but it will not automatically register it under the \"Models\" section in the MLflow UI.\n",
        "\n"
      ],
      "metadata": {
        "id": "3I89D3eBicf7"
      }
    },
    {
      "cell_type": "code",
      "source": [
        "def save_fastai_model_as_artifact(mlfclient, run_id,  learner, exported_model_filename, artifact_path = 'fastai_model'):\n",
        "\n",
        "    learner.export(exported_model_filename)\n",
        "    mlfclient.log_artifact(run_id,\n",
        "        local_path=exported_model_filename,\n",
        "        artifact_path=artifact_path,\n",
        "    )\n",
        "\n",
        "    print(\"artifact_uri saved as model\")\n",
        "    print(f\"runs:/{run_id}/{artifact_path}/{exported_model_filename}\")\n",
        "\n",
        "    # clear the exported fastai model\n",
        "    os.remove(exported_model_filename)"
      ],
      "metadata": {
        "id": "s1zUl4XHhaOv"
      },
      "execution_count": 73,
      "outputs": []
    },
    {
      "cell_type": "code",
      "source": [
        "def fastai_model_from_artifact(artifact_uri):\n",
        "    local_download_path = mlflow.artifacts.download_artifacts(artifact_uri=artifact_uri)\n",
        "    return load_learner(local_download_path)"
      ],
      "metadata": {
        "id": "DKqjK6Bwkino"
      },
      "execution_count": 77,
      "outputs": []
    },
    {
      "cell_type": "code",
      "source": [
        "with mlflow.start_run(experiment_id=active_experiment_id, run_name='resnet18_prertained_01_final_layers') as run:\n",
        "    log_params(mlfclient, run, params_training_all_runs)\n",
        "\n",
        "    run_params = {\"learning_rate\": 0.01, \"pct_start\": 0.99, \"num_epochs\": 4}\n",
        "    log_params(mlfclient, run, run_params)\n",
        "\n",
        "    cb_mlflow = MLFlowTracking(metric_names=['valid_loss', 'train_loss', 'error_rate'], client=mlfclient, run_id=run.info.run_id)\n",
        "\n",
        "    learn.freeze()\n",
        "    #learn.fit_one_cycle(run_params['num_epochs'], run_params['learning_rate'], pct_start=run_params['pct_start'], cbs=[cb_mlflow])\n",
        "\n",
        "    save_fastai_model_as_artifact(mlfclient, run.info.run_id, learn, 'fastai_resnet18_01.pkl')"
      ],
      "metadata": {
        "id": "qCail0y8YxDh",
        "colab": {
          "base_uri": "https://localhost:8080/"
        },
        "outputId": "7ad7ea20-f342-4203-d464-c9a8fb33ffde"
      },
      "execution_count": 74,
      "outputs": [
        {
          "output_type": "stream",
          "name": "stdout",
          "text": [
            "artifact_uri saved as model\n",
            "runs:/f83ec33a06ec4139b713ca412b81d5d0/fastai_model/fastai_resnet18_01.pkl\n"
          ]
        }
      ]
    },
    {
      "cell_type": "code",
      "source": [
        "with mlflow.start_run(experiment_id=active_experiment_id, run_name='resnet18_prertained_02_unfreezed layers') as run:\n",
        "    log_params(mlfclient, run, params_training_all_runs)\n",
        "\n",
        "    run_params = {\"learning_rate_min\": 0.0001, \"learning_rate_max\": 0.001, \"pct_start\": 0.3, \"num_epochs\": 10, \"div\": 5.0}\n",
        "    log_params(mlfclient, run, run_params)\n",
        "\n",
        "    cb_mlflow = MLFlowTracking(metric_names=['valid_loss', 'train_loss', 'error_rate'], client=mlfclient, run_id=run.info.run_id)\n",
        "\n",
        "    learn.unfreeze()\n",
        "    learn.fit_one_cycle(run_params['num_epochs'], slice(run_params['learning_rate_min'], run_params['learning_rate_max']),\n",
        "                        pct_start=run_params['pct_start'], div=run_params['div'],\n",
        "                        cbs=[cb_mlflow, EarlyStoppingCallback(min_delta=0.001, patience=2)])\n",
        "\n",
        "    save_fastai_model_as_artifact(mlfclient, run.info.run_id, learn, 'fastai_resnet18_02.pkl')"
      ],
      "metadata": {
        "id": "2Qp_BcMCskmT"
      },
      "execution_count": null,
      "outputs": []
    },
    {
      "cell_type": "markdown",
      "source": [
        "**Server where experiments can be seen will run in background**"
      ],
      "metadata": {
        "id": "i9aOrMfhpmFN"
      }
    },
    {
      "cell_type": "code",
      "source": [
        "MLFLOW_PORT = 5000\n",
        "\n",
        "# run tracking UI in the background\n",
        "get_ipython().system_raw(f'mlflow ui --backend-store-uri {LOCAL_REGISTRY}  --port {MLFLOW_PORT} &')# run tracking UI in the background"
      ],
      "metadata": {
        "id": "8pjLr8mepkWe"
      },
      "execution_count": null,
      "outputs": []
    },
    {
      "cell_type": "markdown",
      "source": [
        "check for already acitve process, if present kill it."
      ],
      "metadata": {
        "id": "trH5iIDKXCtS"
      }
    },
    {
      "cell_type": "code",
      "source": [
        "!ps | egrep 'mlflow'"
      ],
      "metadata": {
        "id": "uT-WSZDNrLPl"
      },
      "execution_count": null,
      "outputs": []
    },
    {
      "cell_type": "markdown",
      "source": [
        "Check that port number is open"
      ],
      "metadata": {
        "id": "1Lb-C38GXFk6"
      }
    },
    {
      "cell_type": "code",
      "source": [
        "!netstat -lntu"
      ],
      "metadata": {
        "id": "QRcZnmB60cS-"
      },
      "execution_count": null,
      "outputs": []
    },
    {
      "cell_type": "markdown",
      "source": [
        "How to debug a process, you see the actual command that was used to create process"
      ],
      "metadata": {
        "id": "ijj1inIjW8Fc"
      }
    },
    {
      "cell_type": "code",
      "source": [
        "!cat /proc/21962/cmdline"
      ],
      "metadata": {
        "colab": {
          "base_uri": "https://localhost:8080/"
        },
        "id": "NI9e_7zPzgpf",
        "outputId": "677781df-e63f-45fb-ea9a-97d16518fea1"
      },
      "execution_count": null,
      "outputs": [
        {
          "output_type": "stream",
          "name": "stdout",
          "text": [
            "/usr/bin/python3\u0000/usr/local/bin/mlflow\u0000ui\u0000--backend-store-uri\u0000sqlite:///mlruns.db\u0000--port\u00005000\u0000"
          ]
        }
      ]
    },
    {
      "cell_type": "markdown",
      "source": [
        "Solution to view the server on google colab"
      ],
      "metadata": {
        "id": "9Yha-ybxpw9i"
      }
    },
    {
      "cell_type": "code",
      "source": [
        "# create remote tunnel using ngrok.com to allow local port access\n",
        "# borrowed from https://colab.research.google.com/github/alfozan/MLflow-GBRT-demo/blob/master/MLflow-GBRT-demo.ipynb#scrollTo=4h3bKHMYUIG6\n",
        "!pip install pyngrok --quiet\n",
        "from pyngrok import ngrok\n",
        "from google.colab import userdata"
      ],
      "metadata": {
        "id": "nAMZN6SirwQ6"
      },
      "execution_count": null,
      "outputs": []
    },
    {
      "cell_type": "markdown",
      "source": [
        "if you get error that session already runs andyou are only limited to 1 session, stop the session here:\n",
        "\n",
        "https://dashboard.ngrok.com/agents"
      ],
      "metadata": {
        "id": "k6bF5SMM06x0"
      }
    },
    {
      "cell_type": "code",
      "source": [
        "# Terminate open tunnels if exist\n",
        "ngrok.kill()\n",
        "\n",
        "# Setting the authtoken (optional)\n",
        "# Get your authtoken from https://dashboard.ngrok.com/get-started/your-authtoken\n",
        "ngrok.set_auth_token(userdata.get('NGROK_AUTH_TOKEN'))\n",
        "\n",
        "public_url = ngrok.connect(MLFLOW_PORT).public_url\n",
        "print(\"MLflow Tracking UI:\", public_url)"
      ],
      "metadata": {
        "colab": {
          "base_uri": "https://localhost:8080/"
        },
        "id": "pB3PdEt-m9Iz",
        "outputId": "835f435e-421a-48b9-e2f5-1e3ef7b3a204"
      },
      "execution_count": null,
      "outputs": [
        {
          "output_type": "stream",
          "name": "stdout",
          "text": [
            "MLflow Tracking UI: https://88dd-34-138-5-42.ngrok-free.app\n"
          ]
        }
      ]
    },
    {
      "cell_type": "code",
      "source": [
        "!ps | egrep 'ngrok'"
      ],
      "metadata": {
        "colab": {
          "base_uri": "https://localhost:8080/"
        },
        "id": "3-GeCEL1q368",
        "outputId": "4c9dd985-e19b-4f0c-b09c-76cc50ac04c7"
      },
      "execution_count": null,
      "outputs": [
        {
          "output_type": "stream",
          "name": "stdout",
          "text": [
            "  10131 ?        00:00:01 ngrok\n"
          ]
        }
      ]
    },
    {
      "cell_type": "markdown",
      "source": [
        "alternative for colab is to use external tracking server, instead of your own:\n",
        "\n",
        "https://mlflow.org/docs/latest/ml/getting-started/tracking-server-overview/#method-2-use-free-hosted-tracking-server-databricks-free-trial"
      ],
      "metadata": {
        "id": "w6bST0Rea-do"
      }
    }
  ]
}